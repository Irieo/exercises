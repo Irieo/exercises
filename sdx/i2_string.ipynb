{
 "cells": [
  {
   "cell_type": "code",
   "execution_count": 1,
   "metadata": {},
   "outputs": [],
   "source": [
    "names = ['Jeff', 'Gary', 'Jill', 'Sam']"
   ]
  },
  {
   "cell_type": "code",
   "execution_count": 2,
   "metadata": {},
   "outputs": [
    {
     "name": "stdout",
     "output_type": "stream",
     "text": [
      "Hi, Jeff\n",
      "Hi, Gary\n",
      "Hi, Jill\n",
      "Hi, Sam\n"
     ]
    }
   ],
   "source": [
    "for name in names:\n",
    "    print('Hi, '+name)"
   ]
  },
  {
   "cell_type": "code",
   "execution_count": 6,
   "metadata": {},
   "outputs": [
    {
     "name": "stdout",
     "output_type": "stream",
     "text": [
      "Hi, Jeff\n",
      "Hi, Gary\n",
      "Hi, Jill\n",
      "Hi, Sam\n"
     ]
    }
   ],
   "source": [
    "for name in names:\n",
    "    print(' '.join(['Hi,', name]))"
   ]
  },
  {
   "cell_type": "code",
   "execution_count": 3,
   "metadata": {},
   "outputs": [],
   "source": [
    "import os\n",
    "location = '/home/iegor/playground/exercises/sdx/'\n",
    "file = 'text.txt'"
   ]
  },
  {
   "cell_type": "code",
   "execution_count": 5,
   "metadata": {},
   "outputs": [
    {
     "name": "stdout",
     "output_type": "stream",
     "text": [
      "test line\n"
     ]
    }
   ],
   "source": [
    "with open(os.path.join(location, file)) as f:\n",
    "    print(f.read())"
   ]
  },
  {
   "cell_type": "code",
   "execution_count": 6,
   "metadata": {},
   "outputs": [],
   "source": [
    "who = 'Gary'\n",
    "how_many = 12"
   ]
  },
  {
   "cell_type": "code",
   "execution_count": 7,
   "metadata": {},
   "outputs": [
    {
     "name": "stdout",
     "output_type": "stream",
     "text": [
      "Gary bought 12 apples today!\n"
     ]
    }
   ],
   "source": [
    "print('{} bought {} apples today!'.format(who, how_many))"
   ]
  },
  {
   "cell_type": "code",
   "execution_count": 9,
   "metadata": {},
   "outputs": [
    {
     "name": "stdout",
     "output_type": "stream",
     "text": [
      "Gary bought 12 apples today!\n"
     ]
    }
   ],
   "source": [
    "print(f'{who} bought {how_many} apples today!')"
   ]
  },
  {
   "cell_type": "code",
   "execution_count": null,
   "metadata": {},
   "outputs": [],
   "source": []
  }
 ],
 "metadata": {
  "kernelspec": {
   "display_name": "Python 3.9.13 ('ds')",
   "language": "python",
   "name": "python3"
  },
  "language_info": {
   "codemirror_mode": {
    "name": "ipython",
    "version": 3
   },
   "file_extension": ".py",
   "mimetype": "text/x-python",
   "name": "python",
   "nbconvert_exporter": "python",
   "pygments_lexer": "ipython3",
   "version": "3.9.13"
  },
  "orig_nbformat": 4,
  "vscode": {
   "interpreter": {
    "hash": "0fa9bdd64b12e20ea3085049b91a6712ed5e38f3d6b8213bc5b8acf4a68d00dc"
   }
  }
 },
 "nbformat": 4,
 "nbformat_minor": 2
}
