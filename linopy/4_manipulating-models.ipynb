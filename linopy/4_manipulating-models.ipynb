{
 "cells": [
  {
   "cell_type": "markdown",
   "id": "37a85c22",
   "metadata": {},
   "source": [
    "# Modifying Models\n",
    "\n",
    "Given a model that is already built and possibly optimized, the user might want to modify single constraint or variable bounds by means of correction or exploration of the feasible space. \n",
    "\n",
    "In the following we show how single elements can be tweaked or rewritten. Let's start with the simple model of the `Getting Started` section. "
   ]
  },
  {
   "cell_type": "code",
   "execution_count": 1,
   "id": "16a41836",
   "metadata": {},
   "outputs": [],
   "source": [
    "import linopy \n",
    "import pandas as pd\n",
    "import xarray as xr"
   ]
  },
  {
   "cell_type": "code",
   "execution_count": 2,
   "id": "8f4d182f",
   "metadata": {},
   "outputs": [
    {
     "name": "stdout",
     "output_type": "stream",
     "text": [
      "Set parameter TokenServer to value \"ensys3.service.tu-berlin.de\"\n",
      "Read LP format model from file /tmp/linopy-problem-p6hjkldv.lp\n",
      "Reading time = 0.00 seconds\n",
      "obj: 20 rows, 20 columns, 40 nonzeros\n",
      "Gurobi Optimizer version 10.0.0 build v10.0.0rc2 (linux64)\n",
      "\n",
      "CPU model: AMD Ryzen 7 PRO 5850U with Radeon Graphics, instruction set [SSE2|AVX|AVX2]\n",
      "Thread count: 8 physical cores, 16 logical processors, using up to 16 threads\n",
      "\n",
      "Optimize a model with 20 rows, 20 columns and 40 nonzeros\n",
      "Model fingerprint: 0x89bb3e20\n",
      "Coefficient statistics:\n",
      "  Matrix range     [2e+00, 7e+00]\n",
      "  Objective range  [1e+00, 2e+00]\n",
      "  Bounds range     [0e+00, 0e+00]\n",
      "  RHS range        [3e+00, 9e+01]\n",
      "Presolve removed 2 rows and 2 columns\n",
      "Presolve time: 0.00s\n",
      "Presolved: 18 rows, 18 columns, 36 nonzeros\n",
      "\n",
      "Iteration    Objective       Primal Inf.    Dual Inf.      Time\n",
      "       0    0.0000000e+00   7.312500e+01   0.000000e+00      0s\n",
      "      18    1.2879310e+02   0.000000e+00   0.000000e+00      0s\n",
      "\n",
      "Solved in 18 iterations and 0.00 seconds (0.00 work units)\n",
      "Optimal objective  1.287931034e+02\n"
     ]
    },
    {
     "data": {
      "text/plain": [
       "<AxesSubplot:xlabel='time', ylabel='Optimal Value'>"
      ]
     },
     "execution_count": 2,
     "metadata": {},
     "output_type": "execute_result"
    },
    {
     "data": {
      "image/png": "[encoded data removed]",
      "text/plain": [
       "<Figure size 432x288 with 1 Axes>"
      ]
     },
     "metadata": {
      "needs_background": "light"
     },
     "output_type": "display_data"
    }
   ],
   "source": [
    "m = linopy.Model()\n",
    "time = pd.Index(range(10), name='time')\n",
    "\n",
    "x = m.add_variables(lower=0, coords=[time], name='x', )\n",
    "y = m.add_variables(lower=0, coords=[time], name='y')\n",
    "\n",
    "factor = pd.Series(time, index=time)\n",
    "\n",
    "con1 = m.add_constraints(3*x + 7*y >= 10*factor, name='con1')\n",
    "con2 = m.add_constraints(5*x + 2*y >= 3*factor, name='con2')\n",
    "\n",
    "m.add_objective(x + 2*y) \n",
    "m.solve()\n",
    "\n",
    "m.solution.to_dataframe().plot(grid=True, ylabel='Optimal Value')"
   ]
  },
  {
   "cell_type": "markdown",
   "id": "d3f4b966",
   "metadata": {},
   "source": [
    "The figure above shows the optimal values of `x(t)` and `y(t)`. \n",
    "\n",
    "## Varying lower and upper bounds\n",
    "\n",
    "Now, let's say we want to set the lower bound of `y(t)` to 1. This would translate to:"
   ]
  },
  {
   "cell_type": "code",
   "execution_count": 3,
   "id": "f7db57f8",
   "metadata": {},
   "outputs": [],
   "source": [
    "x.lower = 1 "
   ]
  },
  {
   "cell_type": "markdown",
   "id": "66b8be86",
   "metadata": {},
   "source": [
    "**Note:**\n",
    "The same could have been achieved by calling \n",
    "```python \n",
    "m.variables['x'].lower = 1\n",
    "```\n",
    "\n",
    "Let's solve it again!"
   ]
  },
  {
   "cell_type": "code",
   "execution_count": 4,
   "id": "c37add87",
   "metadata": {},
   "outputs": [
    {
     "name": "stdout",
     "output_type": "stream",
     "text": [
      "Read LP format model from file /tmp/linopy-problem-2qq1aodd.lp\n",
      "Reading time = 0.00 seconds\n",
      "obj: 20 rows, 20 columns, 40 nonzeros\n",
      "Gurobi Optimizer version 10.0.0 build v10.0.0rc2 (linux64)\n",
      "\n",
      "CPU model: AMD Ryzen 7 PRO 5850U with Radeon Graphics, instruction set [SSE2|AVX|AVX2]\n",
      "Thread count: 8 physical cores, 16 logical processors, using up to 16 threads\n",
      "\n",
      "Optimize a model with 20 rows, 20 columns and 40 nonzeros\n",
      "Model fingerprint: 0xd3985941\n",
      "Coefficient statistics:\n",
      "  Matrix range     [2e+00, 7e+00]\n",
      "  Objective range  [1e+00, 2e+00]\n",
      "  Bounds range     [1e+00, 1e+00]\n",
      "  RHS range        [3e+00, 9e+01]\n",
      "Presolve removed 4 rows and 4 columns\n",
      "Presolve time: 0.00s\n",
      "Presolved: 16 rows, 16 columns, 32 nonzeros\n",
      "\n",
      "Iteration    Objective       Primal Inf.    Dual Inf.      Time\n",
      "       0    1.3085714e+02   0.000000e+00   0.000000e+00      0s\n",
      "       0    1.3085714e+02   0.000000e+00   0.000000e+00      0s\n",
      "\n",
      "Solved in 0 iterations and 0.00 seconds (0.00 work units)\n",
      "Optimal objective  1.308571429e+02\n"
     ]
    },
    {
     "data": {
      "text/plain": [
       "<AxesSubplot:xlabel='time', ylabel='Optimal Value'>"
      ]
     },
     "execution_count": 4,
     "metadata": {},
     "output_type": "execute_result"
    },
    {
     "data": {
      "image/png": "[encoded data removed]",
      "text/plain": [
       "<Figure size 432x288 with 1 Axes>"
      ]
     },
     "metadata": {
      "needs_background": "light"
     },
     "output_type": "display_data"
    }
   ],
   "source": [
    "m.solve();\n",
    "m.solution.to_dataframe().plot(grid=True, ylabel='Optimal Value')"
   ]
  },
  {
   "cell_type": "markdown",
   "id": "d35e3309",
   "metadata": {},
   "source": [
    "We see that the new lower bound of x is binding across all time steps.\n",
    "\n",
    "Of course the implementation is flexible over the dimensions, so we can pass non-scalar values:"
   ]
  },
  {
   "cell_type": "code",
   "execution_count": 5,
   "id": "451aba93",
   "metadata": {},
   "outputs": [],
   "source": [
    "x.lower = xr.DataArray(range(10, 0, -1), coords=(time,))"
   ]
  },
  {
   "cell_type": "code",
   "execution_count": 6,
   "id": "e25f26a1",
   "metadata": {},
   "outputs": [
    {
     "name": "stdout",
     "output_type": "stream",
     "text": [
      "Read LP format model from file /tmp/linopy-problem-9ldctusl.lp\n",
      "Reading time = 0.00 seconds\n",
      "obj: 20 rows, 20 columns, 40 nonzeros\n",
      "Gurobi Optimizer version 10.0.0 build v10.0.0rc2 (linux64)\n",
      "\n",
      "CPU model: AMD Ryzen 7 PRO 5850U with Radeon Graphics, instruction set [SSE2|AVX|AVX2]\n",
      "Thread count: 8 physical cores, 16 logical processors, using up to 16 threads\n",
      "\n",
      "Optimize a model with 20 rows, 20 columns and 40 nonzeros\n",
      "Model fingerprint: 0x3cc0a80d\n",
      "Coefficient statistics:\n",
      "  Matrix range     [2e+00, 7e+00]\n",
      "  Objective range  [1e+00, 2e+00]\n",
      "  Bounds range     [1e+00, 1e+01]\n",
      "  RHS range        [3e+00, 9e+01]\n",
      "Presolve removed 14 rows and 14 columns\n",
      "Presolve time: 0.00s\n",
      "Presolved: 6 rows, 6 columns, 12 nonzeros\n",
      "\n",
      "Iteration    Objective       Primal Inf.    Dual Inf.      Time\n",
      "       0    1.5100000e+02   0.000000e+00   0.000000e+00      0s\n",
      "       0    1.5100000e+02   0.000000e+00   0.000000e+00      0s\n",
      "\n",
      "Solved in 0 iterations and 0.01 seconds (0.00 work units)\n",
      "Optimal objective  1.510000000e+02\n"
     ]
    },
    {
     "data": {
      "text/plain": [
       "<AxesSubplot:xlabel='time', ylabel='Optimal Value'>"
      ]
     },
     "execution_count": 6,
     "metadata": {},
     "output_type": "execute_result"
    },
    {
     "data": {
      "image/png": "[encoded data removed]",
      "text/plain": [
       "<Figure size 432x288 with 1 Axes>"
      ]
     },
     "metadata": {
      "needs_background": "light"
     },
     "output_type": "display_data"
    }
   ],
   "source": [
    "m.solve();\n",
    "m.solution.to_dataframe().plot(grid=True, ylabel='Optimal Value')"
   ]
  },
  {
   "cell_type": "markdown",
   "id": "4d991939",
   "metadata": {},
   "source": [
    "You can manipulate the upper bound of a variable in the same way."
   ]
  },
  {
   "cell_type": "markdown",
   "id": "de29c28e",
   "metadata": {},
   "source": [
    "## Varying Constraints\n",
    "\n",
    "A similar functionality is implemented for constraints. Here we can modify the left-hand-side, the sign and the right-hand-side.\n",
    "\n",
    "Assume we want to relax the right-hand-side of the first constraint `con1` to `8 * factor`. This would translate to:"
   ]
  },
  {
   "cell_type": "code",
   "execution_count": 7,
   "id": "18d1bf4b",
   "metadata": {},
   "outputs": [],
   "source": [
    "con1.rhs = 8 * factor"
   ]
  },
  {
   "cell_type": "markdown",
   "id": "5499b3b4",
   "metadata": {},
   "source": [
    "**Note:**\n",
    "The same could have been achieved by calling \n",
    "```python \n",
    "m.variables['con1'].rhs = 8 * factor\n",
    "```\n",
    "\n",
    "Let's solve it again!"
   ]
  },
  {
   "cell_type": "code",
   "execution_count": 8,
   "id": "e4d34142",
   "metadata": {},
   "outputs": [
    {
     "name": "stdout",
     "output_type": "stream",
     "text": [
      "Read LP format model from file /tmp/linopy-problem-x30gqxnl.lp\n",
      "Reading time = 0.00 seconds\n",
      "obj: 20 rows, 20 columns, 40 nonzeros\n",
      "Gurobi Optimizer version 10.0.0 build v10.0.0rc2 (linux64)\n",
      "\n",
      "CPU model: AMD Ryzen 7 PRO 5850U with Radeon Graphics, instruction set [SSE2|AVX|AVX2]\n",
      "Thread count: 8 physical cores, 16 logical processors, using up to 16 threads\n",
      "\n",
      "Optimize a model with 20 rows, 20 columns and 40 nonzeros\n",
      "Model fingerprint: 0x60818c1c\n",
      "Coefficient statistics:\n",
      "  Matrix range     [2e+00, 7e+00]\n",
      "  Objective range  [1e+00, 2e+00]\n",
      "  Bounds range     [1e+00, 1e+01]\n",
      "  RHS range        [3e+00, 7e+01]\n",
      "Presolve removed 14 rows and 14 columns\n",
      "Presolve time: 0.00s\n",
      "Presolved: 6 rows, 6 columns, 12 nonzeros\n",
      "\n",
      "Iteration    Objective       Primal Inf.    Dual Inf.      Time\n",
      "       0    1.2700000e+02   2.857143e-01   0.000000e+00      0s\n",
      "       1    1.2707882e+02   0.000000e+00   0.000000e+00      0s\n",
      "\n",
      "Solved in 1 iterations and 0.01 seconds (0.00 work units)\n",
      "Optimal objective  1.270788177e+02\n"
     ]
    },
    {
     "data": {
      "text/plain": [
       "<AxesSubplot:xlabel='time', ylabel='Optimal Value'>"
      ]
     },
     "execution_count": 8,
     "metadata": {},
     "output_type": "execute_result"
    },
    {
     "data": {
      "image/png": "[encoded data removed]",
      "text/plain": [
       "<Figure size 432x288 with 1 Axes>"
      ]
     },
     "metadata": {
      "needs_background": "light"
     },
     "output_type": "display_data"
    }
   ],
   "source": [
    "m.solve();\n",
    "m.solution.to_dataframe().plot(grid=True, ylabel='Optimal Value')"
   ]
  },
  {
   "cell_type": "markdown",
   "id": "bc683e13",
   "metadata": {},
   "source": [
    "In contrast to previous figure, we now see that the optimal value of `y` does not reach values above 10 in the end. \n",
    "\n",
    "In the same way, we can modify the left-hand-side. Assume we want to weight `y` with a coefficient of 8 in the constraints, this gives"
   ]
  },
  {
   "cell_type": "code",
   "execution_count": 9,
   "id": "f8e81d20",
   "metadata": {},
   "outputs": [],
   "source": [
    "con1.lhs = 3 * x + 8 * y"
   ]
  },
  {
   "cell_type": "markdown",
   "id": "cc377d95",
   "metadata": {},
   "source": [
    "**Note:**\n",
    "The same could have been achieved by calling \n",
    "```python \n",
    "m.constraints['con1'].lhs = 3 * x + 8 * y\n",
    "```"
   ]
  },
  {
   "cell_type": "markdown",
   "id": "633d463b",
   "metadata": {},
   "source": [
    "which leads to"
   ]
  },
  {
   "cell_type": "code",
   "execution_count": 10,
   "id": "9b73250d",
   "metadata": {},
   "outputs": [
    {
     "name": "stdout",
     "output_type": "stream",
     "text": [
      "Read LP format model from file /tmp/linopy-problem-hbdr0x3a.lp\n",
      "Reading time = 0.00 seconds\n",
      "obj: 20 rows, 20 columns, 40 nonzeros\n",
      "Gurobi Optimizer version 10.0.0 build v10.0.0rc2 (linux64)\n",
      "\n",
      "CPU model: AMD Ryzen 7 PRO 5850U with Radeon Graphics, instruction set [SSE2|AVX|AVX2]\n",
      "Thread count: 8 physical cores, 16 logical processors, using up to 16 threads\n",
      "\n",
      "Optimize a model with 20 rows, 20 columns and 40 nonzeros\n",
      "Model fingerprint: 0x0670e3d9\n",
      "Coefficient statistics:\n",
      "  Matrix range     [2e+00, 8e+00]\n",
      "  Objective range  [1e+00, 2e+00]\n",
      "  Bounds range     [1e+00, 1e+01]\n",
      "  RHS range        [3e+00, 7e+01]\n",
      "Presolve removed 12 rows and 12 columns\n",
      "Presolve time: 0.00s\n",
      "Presolved: 8 rows, 8 columns, 16 nonzeros\n",
      "\n",
      "Iteration    Objective       Primal Inf.    Dual Inf.      Time\n",
      "       0    9.6400000e+01   0.000000e+00   0.000000e+00      0s\n",
      "       0    9.6400000e+01   0.000000e+00   0.000000e+00      0s\n",
      "\n",
      "Solved in 0 iterations and 0.00 seconds (0.00 work units)\n",
      "Optimal objective  9.640000000e+01\n"
     ]
    },
    {
     "data": {
      "text/plain": [
       "<AxesSubplot:xlabel='time', ylabel='Optimal Value'>"
      ]
     },
     "execution_count": 10,
     "metadata": {},
     "output_type": "execute_result"
    },
    {
     "data": {
      "image/png": "[encoded data removed]",
      "text/plain": [
       "<Figure size 432x288 with 1 Axes>"
      ]
     },
     "metadata": {
      "needs_background": "light"
     },
     "output_type": "display_data"
    }
   ],
   "source": [
    "m.solve();\n",
    "m.solution.to_dataframe().plot(grid=True, ylabel='Optimal Value')"
   ]
  },
  {
   "cell_type": "markdown",
   "id": "e509d5d7",
   "metadata": {},
   "source": [
    "## Varying the objective \n",
    "\n",
    "Varying the objective happens in the same way as for the left-hand-side of the constraint as it is a linear expression too. Note, when passing an unstacked linear expression, i.e. an expression with more than the `_term` dimension, `linopy` will automatically stack it. \n",
    "\n",
    "So assume, we would like to modify the weight of `y` in the objective function, this translates to:"
   ]
  },
  {
   "cell_type": "code",
   "execution_count": 12,
   "id": "44689b5b",
   "metadata": {},
   "outputs": [],
   "source": [
    "m.objective = x + 3*y"
   ]
  },
  {
   "cell_type": "code",
   "execution_count": 13,
   "id": "2144af8e",
   "metadata": {},
   "outputs": [
    {
     "name": "stdout",
     "output_type": "stream",
     "text": [
      "Read LP format model from file /tmp/linopy-problem-e8pp3l_w.lp\n",
      "Reading time = 0.00 seconds\n",
      "obj: 20 rows, 20 columns, 40 nonzeros\n",
      "Gurobi Optimizer version 10.0.0 build v10.0.0rc2 (linux64)\n",
      "\n",
      "CPU model: AMD Ryzen 7 PRO 5850U with Radeon Graphics, instruction set [SSE2|AVX|AVX2]\n",
      "Thread count: 8 physical cores, 16 logical processors, using up to 16 threads\n",
      "\n",
      "Optimize a model with 20 rows, 20 columns and 40 nonzeros\n",
      "Model fingerprint: 0xbeb814a9\n",
      "Coefficient statistics:\n",
      "  Matrix range     [2e+00, 8e+00]\n",
      "  Objective range  [1e+00, 3e+00]\n",
      "  Bounds range     [1e+00, 1e+01]\n",
      "  RHS range        [3e+00, 7e+01]\n",
      "Presolve removed 12 rows and 12 columns\n",
      "Presolve time: 0.00s\n",
      "Presolved: 8 rows, 8 columns, 16 nonzeros\n",
      "\n",
      "Iteration    Objective       Primal Inf.    Dual Inf.      Time\n",
      "       0    9.6400000e+01   0.000000e+00   0.000000e+00      0s\n",
      "       0    9.6400000e+01   0.000000e+00   0.000000e+00      0s\n",
      "\n",
      "Solved in 0 iterations and 0.00 seconds (0.00 work units)\n",
      "Optimal objective  9.640000000e+01\n"
     ]
    },
    {
     "data": {
      "text/plain": [
       "<AxesSubplot:xlabel='time', ylabel='Optimal Value'>"
      ]
     },
     "execution_count": 13,
     "metadata": {},
     "output_type": "execute_result"
    },
    {
     "data": {
      "image/png": "[encoded data removed]",
      "text/plain": [
       "<Figure size 432x288 with 1 Axes>"
      ]
     },
     "metadata": {
      "needs_background": "light"
     },
     "output_type": "display_data"
    }
   ],
   "source": [
    "m.solve();\n",
    "m.solution.to_dataframe().plot(grid=True, ylabel='Optimal Value')"
   ]
  },
  {
   "cell_type": "markdown",
   "id": "f1faa095",
   "metadata": {},
   "source": [
    "As a consequence, `y` stays at zero for all time steps."
   ]
  }
 ],
 "metadata": {
  "@webio": {
   "lastCommId": null,
   "lastKernelId": null
  },
  "kernelspec": {
   "display_name": "pypsa-eur",
   "language": "python",
   "name": "python3"
  },
  "language_info": {
   "codemirror_mode": {
    "name": "ipython",
    "version": 3
   },
   "file_extension": ".py",
   "mimetype": "text/x-python",
   "name": "python",
   "nbconvert_exporter": "python",
   "pygments_lexer": "ipython3",
   "version": "3.9.13"
  },
  "vscode": {
   "interpreter": {
    "hash": "e9283456204c2d0125593e7ce0c6e14b2af2e5b06979030fdd299f826717cf04"
   }
  }
 },
 "nbformat": 4,
 "nbformat_minor": 5
}
