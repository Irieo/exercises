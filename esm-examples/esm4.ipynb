{
 "cells": [
  {
   "cell_type": "markdown",
   "metadata": {},
   "source": [
    "### ESM-4: toy optimization problem.\n",
    "- two generators, single load, single bus\n",
    "- multiple time periods\n",
    "- a storage device\n",
    "- a discussion of storage dispatch, and the impact on the system\n",
    "- (start of) a discussion about model VS reality juxtaposition"
   ]
  },
  {
   "cell_type": "code",
   "execution_count": 1,
   "metadata": {},
   "outputs": [],
   "source": [
    "### Problem formulation\n",
    "# generator 1: \"gas\" (CCGT), marginal cost 70 EUR/MWh, capacity 50 MW\n",
    "# generator 2: \"coal\" (hard coal), marginal cost 40 EUR/MWh, capacity 100 MW\n",
    "# load: \"UA\" (Ukraine), 120 MW\n",
    "# multiple time steps\n",
    "# storage device: \"battery\", capacity 100 MWh, charging efficiency 0.9, discharging efficiency 0.9"
   ]
  },
  {
   "cell_type": "code",
   "execution_count": 2,
   "metadata": {},
   "outputs": [],
   "source": [
    "import pypsa\n",
    "import numpy as np\n",
    "import pandas as pd\n",
    "import linopy\n",
    "import matplotlib.pyplot as plt"
   ]
  },
  {
   "cell_type": "markdown",
   "metadata": {},
   "source": [
    "### Create PyPSA network with components of the problem"
   ]
  },
  {
   "cell_type": "code",
   "execution_count": 3,
   "metadata": {},
   "outputs": [],
   "source": [
    "n = pypsa.Network()"
   ]
  },
  {
   "cell_type": "code",
   "execution_count": 4,
   "metadata": {},
   "outputs": [],
   "source": [
    "n.add(\"Bus\", \"UA\", v_nom=380)\n",
    "n.add(\n",
    "    \"Generator\",\n",
    "    \"gas\",\n",
    "    bus=\"UA\",\n",
    "    p_nom_extendable=False,\n",
    "    marginal_cost=70,  # €/MWh\n",
    "    p_nom=50,  # MW\n",
    ")\n",
    "n.add(\n",
    "    \"Generator\",\n",
    "    \"coal\",\n",
    "    bus=\"UA\",\n",
    "    p_nom_extendable=False,\n",
    "    marginal_cost=40,  # €/MWh\n",
    "    p_nom=70,  # MW\n",
    ")"
   ]
  },
  {
   "cell_type": "code",
   "execution_count": 5,
   "metadata": {},
   "outputs": [],
   "source": [
    "n.snapshots = pd.date_range(\"2019-01-01\", periods=5, freq=\"H\")\n",
    "load_series = pd.Series([30, 60, 80, 100, 70], index=n.snapshots)"
   ]
  },
  {
   "cell_type": "code",
   "execution_count": 6,
   "metadata": {},
   "outputs": [],
   "source": [
    "n.add(\n",
    "    \"Load\",\n",
    "    \"Ukraine\",\n",
    "    bus=\"UA\",\n",
    "    p_set=load_series,  # MW\n",
    ")"
   ]
  },
  {
   "cell_type": "code",
   "execution_count": null,
   "metadata": {},
   "outputs": [],
   "source": [
    "n.loads_t.p_set"
   ]
  },
  {
   "cell_type": "markdown",
   "metadata": {},
   "source": [
    "## Solve with PyPSA optimize module w/o storage"
   ]
  },
  {
   "cell_type": "code",
   "execution_count": 8,
   "metadata": {},
   "outputs": [],
   "source": [
    "# n.optimize.create_model()"
   ]
  },
  {
   "cell_type": "code",
   "execution_count": null,
   "metadata": {},
   "outputs": [],
   "source": [
    "n.optimize(solver_name=\"glpk\")"
   ]
  },
  {
   "cell_type": "code",
   "execution_count": null,
   "metadata": {},
   "outputs": [],
   "source": [
    "n.objective"
   ]
  },
  {
   "cell_type": "code",
   "execution_count": null,
   "metadata": {},
   "outputs": [],
   "source": [
    "n.generators_t.p"
   ]
  },
  {
   "cell_type": "code",
   "execution_count": null,
   "metadata": {},
   "outputs": [],
   "source": [
    "# def plot_dispatch(n):\n",
    "#     df = n.generators_t.p\n",
    "#     colors = {\"coal\": \"#8B4513\", \"gas\": \"#FFA500\"}\n",
    "#     df = df[[\"coal\", \"gas\"]]\n",
    "#     df.plot(kind=\"bar\", stacked=True, width=0.9, color=[colors[c] for c in df.columns])\n",
    "#     plt.xticks(np.arange(len(df.index)), df.index.strftime(\"%H:%M\"))\n",
    "#     plt.xticks(rotation=0)\n",
    "#     plt.xlabel(\"Time\")\n",
    "#     plt.ylabel(\"MW\")\n",
    "#     plt.legend(loc=\"upper left\")\n",
    "#     plt.show()\n",
    "\n",
    "\n",
    "# plot_dispatch(n)"
   ]
  },
  {
   "cell_type": "markdown",
   "metadata": {},
   "source": [
    "### Retrieve electricity prices w/o storage"
   ]
  },
  {
   "cell_type": "code",
   "execution_count": null,
   "metadata": {},
   "outputs": [],
   "source": [
    "n.model.dual"
   ]
  },
  {
   "cell_type": "code",
   "execution_count": null,
   "metadata": {},
   "outputs": [],
   "source": [
    "prices = n.model.dual[\"Bus-nodal_balance\"].values\n",
    "series = pd.Series([item[0] for item in prices], index=n.snapshots.strftime(\"%H:%M\"))\n",
    "series.plot(marker=\"o\", linestyle=\"-\", color=\"black\")"
   ]
  },
  {
   "cell_type": "markdown",
   "metadata": {},
   "source": [
    "## Solve with PyPSA optimize module with storage device"
   ]
  },
  {
   "cell_type": "markdown",
   "metadata": {},
   "source": [
    "### Add battery storage"
   ]
  },
  {
   "cell_type": "code",
   "execution_count": null,
   "metadata": {},
   "outputs": [],
   "source": [
    "# see documentation: https://pypsa.readthedocs.io/en/latest/components.html#storage-unit\n",
    "\n",
    "n.add(\n",
    "    \"StorageUnit\",\n",
    "    \"Battery\",\n",
    "    bus=\"UA\",\n",
    "    p_nom_extendable=False,\n",
    "    p_nom=20,  # MW\n",
    "    max_hours=5,  # 20 MW * 5 hours = 100 MWh\n",
    "    efficiency_store=0.9,\n",
    "    efficiency_dispatch=0.9,\n",
    "    state_of_charge_initial=0  # MWh\n",
    "    # cyclic_state_of_charge=True,\n",
    ")"
   ]
  },
  {
   "cell_type": "code",
   "execution_count": null,
   "metadata": {},
   "outputs": [],
   "source": [
    "# n.storage_units.T"
   ]
  },
  {
   "cell_type": "markdown",
   "metadata": {},
   "source": [
    "### Solve the problem with storage and revise results"
   ]
  },
  {
   "cell_type": "code",
   "execution_count": null,
   "metadata": {},
   "outputs": [],
   "source": [
    "# See documentation of storage unit equations: https://pypsa.readthedocs.io/en/latest/optimal_power_flow.html#storage-unit-constraints\n",
    "# ensure that the new variables and equations are added to the model\n",
    "# n.optimize.create_model()"
   ]
  },
  {
   "cell_type": "code",
   "execution_count": null,
   "metadata": {},
   "outputs": [],
   "source": [
    "n.optimize(solver_name=\"glpk\")"
   ]
  },
  {
   "cell_type": "code",
   "execution_count": null,
   "metadata": {},
   "outputs": [],
   "source": [
    "# Objective w/o storage unit 15600.0\n",
    "n.objective"
   ]
  },
  {
   "cell_type": "markdown",
   "metadata": {},
   "source": [
    "### Prepare dashboard"
   ]
  },
  {
   "cell_type": "code",
   "execution_count": 14,
   "metadata": {},
   "outputs": [],
   "source": [
    "def dashboard(n):\n",
    "    def plot_balance(n, ax):\n",
    "        balance = (\n",
    "            n.statistics.energy_balance(aggregate_time=False, aggregate_bus=False)\n",
    "            .loc[:, :, \"AC\", \"UA\"]\n",
    "            .droplevel(1)\n",
    "        )\n",
    "        colors = {\"Load\": \"grey\", \"Generator\": \"blue\", \"StorageUnit\": \"black\"}\n",
    "        balance.T.plot(\n",
    "            kind=\"bar\",\n",
    "            stacked=True,\n",
    "            width=0.9,\n",
    "            color=[colors[c] for c in balance.index],\n",
    "            ax=ax,\n",
    "        )\n",
    "        ax.set_xticks(np.arange(len(balance.columns)))\n",
    "        ax.set_xticklabels(balance.columns.strftime(\"%H:%M\"), rotation=0)\n",
    "        ax.set_ylabel(\"MW\")\n",
    "        ax.legend(loc=\"upper left\")\n",
    "        ax.set_title(\"Energy Balance\")\n",
    "\n",
    "    # Create a 2x2 subplot grid\n",
    "    fig, axs = plt.subplots(2, 2, figsize=(10, 10))\n",
    "\n",
    "    # Plot 1: Energy Balance\n",
    "    plot_balance(n, axs[0, 0])\n",
    "\n",
    "    # Plot 2: Storage Unit Dispatch\n",
    "    dispatch_time = n.storage_units_t.p.index.strftime(\"%H:%M\")\n",
    "    axs[0, 1].plot(\n",
    "        dispatch_time,\n",
    "        n.storage_units_t.p.values,\n",
    "        marker=\"o\",\n",
    "        linestyle=\"-\",\n",
    "        color=\"black\",\n",
    "    )\n",
    "    axs[0, 1].set_ylabel(\"MW\")\n",
    "    axs[0, 1].set_title(\"Storage Dispatch\")\n",
    "\n",
    "    # Plot 3: Storage Unit State of Charge\n",
    "    state_of_charge_time = n.storage_units_t.state_of_charge.index.strftime(\"%H:%M\")\n",
    "    axs[1, 0].plot(\n",
    "        state_of_charge_time,\n",
    "        n.storage_units_t.state_of_charge.values,\n",
    "        marker=\"o\",\n",
    "        linestyle=\"-\",\n",
    "        color=\"black\",\n",
    "    )\n",
    "    axs[1, 0].set_ylabel(\"MWh\")\n",
    "    axs[1, 0].set_title(\"Storage State of Charge\")\n",
    "\n",
    "    # Plot 4: Prices\n",
    "    prices = n.model.dual[\"Bus-nodal_balance\"].values\n",
    "    series = pd.Series(\n",
    "        [item[0] for item in prices], index=n.snapshots.strftime(\"%H:%M\")\n",
    "    )\n",
    "    axs[1, 1].plot(\n",
    "        series.index, series.values, marker=\"o\", linestyle=\"-\", color=\"black\"\n",
    "    )\n",
    "    axs[1, 1].set_title(\"Electricity price estimate\")\n",
    "    axs[1, 1].set_ylabel(\"€/MWh\")\n",
    "\n",
    "    # Adjust layout\n",
    "    plt.tight_layout()\n",
    "    plt.show()"
   ]
  },
  {
   "cell_type": "code",
   "execution_count": null,
   "metadata": {},
   "outputs": [],
   "source": [
    "dashboard(n)"
   ]
  },
  {
   "cell_type": "markdown",
   "metadata": {},
   "source": [
    "## Changing stuff and seeing what happens"
   ]
  },
  {
   "cell_type": "markdown",
   "metadata": {},
   "source": [
    "### Scenario: unlimited storage, no losses"
   ]
  },
  {
   "cell_type": "code",
   "execution_count": null,
   "metadata": {},
   "outputs": [],
   "source": [
    "if len(n.storage_units) != 0:\n",
    "    n.remove(\"StorageUnit\", \"Battery\")"
   ]
  },
  {
   "cell_type": "code",
   "execution_count": null,
   "metadata": {},
   "outputs": [],
   "source": [
    "n.add(\n",
    "    \"StorageUnit\",\n",
    "    \"Battery\",\n",
    "    bus=\"UA\",\n",
    "    p_nom_extendable=False,\n",
    "    p_nom=100,  # MW\n",
    "    max_hours=10,  # 100 MW * 10 hours = 1000 MWh\n",
    "    efficiency_store=1,  # n0 losses\n",
    "    efficiency_dispatch=1,  # no losses\n",
    "    state_of_charge_initial=0  # MWh\n",
    "    # cyclic_state_of_charge=True,\n",
    ")"
   ]
  },
  {
   "cell_type": "code",
   "execution_count": null,
   "metadata": {},
   "outputs": [],
   "source": [
    "n.optimize(solver_name=\"glpk\")\n",
    "dashboard(n)"
   ]
  },
  {
   "cell_type": "code",
   "execution_count": null,
   "metadata": {},
   "outputs": [],
   "source": [
    "n.objective"
   ]
  },
  {
   "cell_type": "markdown",
   "metadata": {},
   "source": [
    "### Scenario: 10 MW power x 10h duration storage, no losses"
   ]
  },
  {
   "cell_type": "code",
   "execution_count": null,
   "metadata": {},
   "outputs": [],
   "source": [
    "if len(n.storage_units) != 0:\n",
    "    n.remove(\"StorageUnit\", \"Battery\")"
   ]
  },
  {
   "cell_type": "code",
   "execution_count": null,
   "metadata": {},
   "outputs": [],
   "source": [
    "n.add(\n",
    "    \"StorageUnit\",\n",
    "    \"Battery\",\n",
    "    bus=\"UA\",\n",
    "    p_nom_extendable=False,\n",
    "    p_nom=10,  # MW\n",
    "    max_hours=10,  # 100 MW * 10 hours = 1000 MWh\n",
    "    efficiency_store=1,  # n0 losses\n",
    "    efficiency_dispatch=1,  # no losses\n",
    "    state_of_charge_initial=0  # MWh\n",
    "    # cyclic_state_of_charge=True,\n",
    ")"
   ]
  },
  {
   "cell_type": "code",
   "execution_count": null,
   "metadata": {},
   "outputs": [],
   "source": [
    "n.optimize(solver_name=\"glpk\")\n",
    "dashboard(n)"
   ]
  },
  {
   "cell_type": "markdown",
   "metadata": {},
   "source": [
    "### Scenario: 10 MW power x 1h duration storage, no losses"
   ]
  },
  {
   "cell_type": "code",
   "execution_count": null,
   "metadata": {},
   "outputs": [],
   "source": [
    "if len(n.storage_units) != 0:\n",
    "    n.remove(\"StorageUnit\", \"Battery\")"
   ]
  },
  {
   "cell_type": "code",
   "execution_count": null,
   "metadata": {},
   "outputs": [],
   "source": [
    "n.add(\n",
    "    \"StorageUnit\",\n",
    "    \"Battery\",\n",
    "    bus=\"UA\",\n",
    "    p_nom_extendable=False,\n",
    "    p_nom=10,  # MW\n",
    "    max_hours=1,  # 100 MW * 10 hours = 1000 MWh\n",
    "    efficiency_store=1,  # n0 losses\n",
    "    efficiency_dispatch=1,  # no losses\n",
    "    state_of_charge_initial=0  # MWh\n",
    "    # cyclic_state_of_charge=True,\n",
    ")"
   ]
  },
  {
   "cell_type": "code",
   "execution_count": null,
   "metadata": {},
   "outputs": [],
   "source": [
    "n.optimize(solver_name=\"glpk\")\n",
    "dashboard(n)"
   ]
  },
  {
   "cell_type": "markdown",
   "metadata": {},
   "source": [
    "### FInal Scenario: 20 MW power x 5h duration storage, losses 10% on discharge, 0% on charge"
   ]
  },
  {
   "cell_type": "code",
   "execution_count": null,
   "metadata": {},
   "outputs": [],
   "source": [
    "if len(n.storage_units) != 0:\n",
    "    n.remove(\"StorageUnit\", \"Battery\")"
   ]
  },
  {
   "cell_type": "code",
   "execution_count": 12,
   "metadata": {},
   "outputs": [],
   "source": [
    "n.add(\n",
    "    \"StorageUnit\",\n",
    "    \"Battery\",\n",
    "    bus=\"UA\",\n",
    "    p_nom_extendable=False,\n",
    "    p_nom=20,  # MW\n",
    "    max_hours=5,  # 100 MW * 10 hours = 1000 MWh\n",
    "    efficiency_store=1,  # 10% losses\n",
    "    efficiency_dispatch=0.9,  # no losses\n",
    "    state_of_charge_initial=0  # MWh\n",
    "    # cyclic_state_of_charge=True,\n",
    ")"
   ]
  },
  {
   "cell_type": "code",
   "execution_count": 15,
   "metadata": {},
   "outputs": [
    {
     "name": "stderr",
     "output_type": "stream",
     "text": [
      "/home/iegor/miniconda3/envs/pypsa/lib/python3.11/site-packages/xarray/core/utils.py:494: FutureWarning: The return type of `Dataset.dims` will be changed to return a set of dimension names in future, in order to be more consistent with `DataArray.dims`. To access a mapping from dimension names to lengths, please use `Dataset.sizes`.\n",
      "  warnings.warn(\n",
      "/home/iegor/miniconda3/envs/pypsa/lib/python3.11/site-packages/xarray/core/utils.py:494: FutureWarning: The return type of `Dataset.dims` will be changed to return a set of dimension names in future, in order to be more consistent with `DataArray.dims`. To access a mapping from dimension names to lengths, please use `Dataset.sizes`.\n",
      "  warnings.warn(\n",
      "/home/iegor/miniconda3/envs/pypsa/lib/python3.11/site-packages/xarray/core/utils.py:494: FutureWarning: The return type of `Dataset.dims` will be changed to return a set of dimension names in future, in order to be more consistent with `DataArray.dims`. To access a mapping from dimension names to lengths, please use `Dataset.sizes`.\n",
      "  warnings.warn(\n",
      "/home/iegor/miniconda3/envs/pypsa/lib/python3.11/site-packages/xarray/core/utils.py:494: FutureWarning: The return type of `Dataset.dims` will be changed to return a set of dimension names in future, in order to be more consistent with `DataArray.dims`. To access a mapping from dimension names to lengths, please use `Dataset.sizes`.\n",
      "  warnings.warn(\n",
      "/home/iegor/miniconda3/envs/pypsa/lib/python3.11/site-packages/xarray/core/utils.py:494: FutureWarning: The return type of `Dataset.dims` will be changed to return a set of dimension names in future, in order to be more consistent with `DataArray.dims`. To access a mapping from dimension names to lengths, please use `Dataset.sizes`.\n",
      "  warnings.warn(\n",
      "/home/iegor/miniconda3/envs/pypsa/lib/python3.11/site-packages/xarray/core/utils.py:494: FutureWarning: The return type of `Dataset.dims` will be changed to return a set of dimension names in future, in order to be more consistent with `DataArray.dims`. To access a mapping from dimension names to lengths, please use `Dataset.sizes`.\n",
      "  warnings.warn(\n",
      "/home/iegor/miniconda3/envs/pypsa/lib/python3.11/site-packages/xarray/core/utils.py:494: FutureWarning: The return type of `Dataset.dims` will be changed to return a set of dimension names in future, in order to be more consistent with `DataArray.dims`. To access a mapping from dimension names to lengths, please use `Dataset.sizes`.\n",
      "  warnings.warn(\n",
      "/home/iegor/miniconda3/envs/pypsa/lib/python3.11/site-packages/xarray/core/utils.py:494: FutureWarning: The return type of `Dataset.dims` will be changed to return a set of dimension names in future, in order to be more consistent with `DataArray.dims`. To access a mapping from dimension names to lengths, please use `Dataset.sizes`.\n",
      "  warnings.warn(\n",
      "/home/iegor/miniconda3/envs/pypsa/lib/python3.11/site-packages/xarray/core/utils.py:494: FutureWarning: The return type of `Dataset.dims` will be changed to return a set of dimension names in future, in order to be more consistent with `DataArray.dims`. To access a mapping from dimension names to lengths, please use `Dataset.sizes`.\n",
      "  warnings.warn(\n",
      "/home/iegor/miniconda3/envs/pypsa/lib/python3.11/site-packages/xarray/core/utils.py:494: FutureWarning: The return type of `Dataset.dims` will be changed to return a set of dimension names in future, in order to be more consistent with `DataArray.dims`. To access a mapping from dimension names to lengths, please use `Dataset.sizes`.\n",
      "  warnings.warn(\n",
      "/home/iegor/miniconda3/envs/pypsa/lib/python3.11/site-packages/xarray/core/utils.py:494: FutureWarning: The return type of `Dataset.dims` will be changed to return a set of dimension names in future, in order to be more consistent with `DataArray.dims`. To access a mapping from dimension names to lengths, please use `Dataset.sizes`.\n",
      "  warnings.warn(\n",
      "/home/iegor/miniconda3/envs/pypsa/lib/python3.11/site-packages/xarray/core/utils.py:494: FutureWarning: The return type of `Dataset.dims` will be changed to return a set of dimension names in future, in order to be more consistent with `DataArray.dims`. To access a mapping from dimension names to lengths, please use `Dataset.sizes`.\n",
      "  warnings.warn(\n",
      "/home/iegor/miniconda3/envs/pypsa/lib/python3.11/site-packages/xarray/core/utils.py:494: FutureWarning: The return type of `Dataset.dims` will be changed to return a set of dimension names in future, in order to be more consistent with `DataArray.dims`. To access a mapping from dimension names to lengths, please use `Dataset.sizes`.\n",
      "  warnings.warn(\n",
      "/home/iegor/miniconda3/envs/pypsa/lib/python3.11/site-packages/xarray/core/utils.py:494: FutureWarning: The return type of `Dataset.dims` will be changed to return a set of dimension names in future, in order to be more consistent with `DataArray.dims`. To access a mapping from dimension names to lengths, please use `Dataset.sizes`.\n",
      "  warnings.warn(\n",
      "/home/iegor/miniconda3/envs/pypsa/lib/python3.11/site-packages/xarray/core/utils.py:494: FutureWarning: The return type of `Dataset.dims` will be changed to return a set of dimension names in future, in order to be more consistent with `DataArray.dims`. To access a mapping from dimension names to lengths, please use `Dataset.sizes`.\n",
      "  warnings.warn(\n",
      "/home/iegor/miniconda3/envs/pypsa/lib/python3.11/site-packages/xarray/core/utils.py:494: FutureWarning: The return type of `Dataset.dims` will be changed to return a set of dimension names in future, in order to be more consistent with `DataArray.dims`. To access a mapping from dimension names to lengths, please use `Dataset.sizes`.\n",
      "  warnings.warn(\n",
      "/home/iegor/miniconda3/envs/pypsa/lib/python3.11/site-packages/xarray/core/utils.py:494: FutureWarning: The return type of `Dataset.dims` will be changed to return a set of dimension names in future, in order to be more consistent with `DataArray.dims`. To access a mapping from dimension names to lengths, please use `Dataset.sizes`.\n",
      "  warnings.warn(\n",
      "/home/iegor/miniconda3/envs/pypsa/lib/python3.11/site-packages/xarray/core/utils.py:494: FutureWarning: The return type of `Dataset.dims` will be changed to return a set of dimension names in future, in order to be more consistent with `DataArray.dims`. To access a mapping from dimension names to lengths, please use `Dataset.sizes`.\n",
      "  warnings.warn(\n",
      "/home/iegor/miniconda3/envs/pypsa/lib/python3.11/site-packages/xarray/core/utils.py:494: FutureWarning: The return type of `Dataset.dims` will be changed to return a set of dimension names in future, in order to be more consistent with `DataArray.dims`. To access a mapping from dimension names to lengths, please use `Dataset.sizes`.\n",
      "  warnings.warn(\n",
      "/home/iegor/miniconda3/envs/pypsa/lib/python3.11/site-packages/xarray/core/utils.py:494: FutureWarning: The return type of `Dataset.dims` will be changed to return a set of dimension names in future, in order to be more consistent with `DataArray.dims`. To access a mapping from dimension names to lengths, please use `Dataset.sizes`.\n",
      "  warnings.warn(\n",
      "/home/iegor/miniconda3/envs/pypsa/lib/python3.11/site-packages/xarray/core/utils.py:494: FutureWarning: The return type of `Dataset.dims` will be changed to return a set of dimension names in future, in order to be more consistent with `DataArray.dims`. To access a mapping from dimension names to lengths, please use `Dataset.sizes`.\n",
      "  warnings.warn(\n",
      "/home/iegor/miniconda3/envs/pypsa/lib/python3.11/site-packages/xarray/core/utils.py:494: FutureWarning: The return type of `Dataset.dims` will be changed to return a set of dimension names in future, in order to be more consistent with `DataArray.dims`. To access a mapping from dimension names to lengths, please use `Dataset.sizes`.\n",
      "  warnings.warn(\n",
      "/home/iegor/miniconda3/envs/pypsa/lib/python3.11/site-packages/xarray/core/utils.py:494: FutureWarning: The return type of `Dataset.dims` will be changed to return a set of dimension names in future, in order to be more consistent with `DataArray.dims`. To access a mapping from dimension names to lengths, please use `Dataset.sizes`.\n",
      "  warnings.warn(\n",
      "INFO:linopy.model: Solve problem using Glpk solver\n",
      "INFO:linopy.io: Writing time: 0.03s\n",
      "INFO:linopy.constants: Optimization successful: \n",
      "Status: ok\n",
      "Termination condition: optimal\n",
      "Solution: 25 primals, 60 duals\n",
      "Objective: 1.41e+04\n",
      "Solver model: not available\n",
      "Solver message: optimal\n",
      "\n",
      "INFO:pypsa.optimization.optimize:The shadow-prices of the constraints Generator-fix-p-lower, Generator-fix-p-upper, StorageUnit-fix-p_dispatch-lower, StorageUnit-fix-p_dispatch-upper, StorageUnit-fix-p_store-lower, StorageUnit-fix-p_store-upper, StorageUnit-fix-state_of_charge-lower, StorageUnit-fix-state_of_charge-upper, StorageUnit-energy_balance were not assigned to the network.\n",
      "INFO:matplotlib.category:Using categorical units to plot a list of strings that are all parsable as floats or dates. If these strings should be plotted as numbers, cast to the appropriate data type before plotting.\n",
      "INFO:matplotlib.category:Using categorical units to plot a list of strings that are all parsable as floats or dates. If these strings should be plotted as numbers, cast to the appropriate data type before plotting.\n",
      "INFO:matplotlib.category:Using categorical units to plot a list of strings that are all parsable as floats or dates. If these strings should be plotted as numbers, cast to the appropriate data type before plotting.\n",
      "INFO:matplotlib.category:Using categorical units to plot a list of strings that are all parsable as floats or dates. If these strings should be plotted as numbers, cast to the appropriate data type before plotting.\n",
      "INFO:matplotlib.category:Using categorical units to plot a list of strings that are all parsable as floats or dates. If these strings should be plotted as numbers, cast to the appropriate data type before plotting.\n",
      "INFO:matplotlib.category:Using categorical units to plot a list of strings that are all parsable as floats or dates. If these strings should be plotted as numbers, cast to the appropriate data type before plotting.\n"
     ]
    },
    {
     "name": "stdout",
     "output_type": "stream",
     "text": [
      "GLPSOL--GLPK LP/MIP Solver 5.0\n",
      "Parameter(s) specified in the command line:\n",
      " --lp /tmp/linopy-problem-40g_wk_e.lp --output /tmp/linopy-solve-fdwoigub.sol\n",
      "Reading problem data from '/tmp/linopy-problem-40g_wk_e.lp'...\n",
      "60 rows, 25 columns, 89 non-zeros\n",
      "307 lines were read\n",
      "GLPK Simplex Optimizer 5.0\n",
      "60 rows, 25 columns, 89 non-zeros\n",
      "Preprocessing...\n",
      "10 rows, 19 columns, 33 non-zeros\n",
      "Scaling...\n",
      " A: min|aij| =  1.000e+00  max|aij| =  1.111e+00  ratio =  1.111e+00\n",
      "Problem data seem to be well scaled\n",
      "Constructing initial basis...\n",
      "Size of triangular part is 10\n",
      "      0: obj =   2.380000000e+04 inf =   1.100e+02 (4)\n",
      "      4: obj =   2.050000000e+04 inf =   0.000e+00 (0)\n",
      "*    15: obj =   1.411000000e+04 inf =   0.000e+00 (0)\n",
      "OPTIMAL LP SOLUTION FOUND\n",
      "Time used:   0.0 secs\n",
      "Memory used: 0.1 Mb (56572 bytes)\n",
      "Writing basic solution to '/tmp/linopy-solve-fdwoigub.sol'...\n"
     ]
    },
    {
     "data": {
      "image/png": "[encoded data removed]",
      "text/plain": [
       "<Figure size 1000x1000 with 4 Axes>"
      ]
     },
     "metadata": {},
     "output_type": "display_data"
    }
   ],
   "source": [
    "n.optimize(solver_name=\"glpk\")\n",
    "dashboard(n)"
   ]
  },
  {
   "cell_type": "markdown",
   "metadata": {},
   "source": [
    "### Explain --- Why price in hour 01:00 is exactly 63 EUR/MWh?"
   ]
  },
  {
   "cell_type": "code",
   "execution_count": null,
   "metadata": {},
   "outputs": [],
   "source": [
    "n.model.dual[\"Bus-nodal_balance\"].values"
   ]
  },
  {
   "cell_type": "code",
   "execution_count": null,
   "metadata": {},
   "outputs": [],
   "source": [
    "# Hints:\n",
    "# n.model.dual['StorageUnit-fix-p_dispatch-upper']\n",
    "# n.model.dual['StorageUnit-fix-p_store-upper']\n",
    "# n.model.dual['StorageUnit-fix-state_of_charge-upper']\n",
    "# n.model.dual[\"Bus-nodal_balance\"]"
   ]
  },
  {
   "cell_type": "code",
   "execution_count": null,
   "metadata": {},
   "outputs": [],
   "source": []
  }
 ],
 "metadata": {
  "kernelspec": {
   "display_name": "pypsa-eur",
   "language": "python",
   "name": "python3"
  },
  "language_info": {
   "codemirror_mode": {
    "name": "ipython",
    "version": 3
   },
   "file_extension": ".py",
   "mimetype": "text/x-python",
   "name": "python",
   "nbconvert_exporter": "python",
   "pygments_lexer": "ipython3",
   "version": "3.11.6"
  }
 },
 "nbformat": 4,
 "nbformat_minor": 2
}
