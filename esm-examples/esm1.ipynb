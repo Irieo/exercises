{
 "cells": [
  {
   "cell_type": "markdown",
   "metadata": {},
   "source": [
    "### ESM-1: two generators, single load, single bus optimization problem."
   ]
  },
  {
   "cell_type": "code",
   "execution_count": 349,
   "metadata": {},
   "outputs": [],
   "source": [
    "import pypsa\n",
    "import numpy as np\n",
    "import pandas as pd\n",
    "import linopy"
   ]
  },
  {
   "cell_type": "code",
   "execution_count": 376,
   "metadata": {},
   "outputs": [],
   "source": [
    "n = pypsa.Network()"
   ]
  },
  {
   "cell_type": "code",
   "execution_count": 377,
   "metadata": {},
   "outputs": [
    {
     "data": {
      "text/plain": [
       "Empty PyPSA Network\n",
       "Components: none\n",
       "Snapshots: 1"
      ]
     },
     "execution_count": 377,
     "metadata": {},
     "output_type": "execute_result"
    }
   ],
   "source": [
    "n"
   ]
  },
  {
   "cell_type": "code",
   "execution_count": 378,
   "metadata": {},
   "outputs": [],
   "source": [
    "# 48.3794° N, 31.1656° E\n",
    "n.add(\"Bus\", \"UA\", v_nom=380)"
   ]
  },
  {
   "cell_type": "code",
   "execution_count": 379,
   "metadata": {},
   "outputs": [
    {
     "data": {
      "text/html": [
       "<div>\n",
       "<style scoped>\n",
       "    .dataframe tbody tr th:only-of-type {\n",
       "        vertical-align: middle;\n",
       "    }\n",
       "\n",
       "    .dataframe tbody tr th {\n",
       "        vertical-align: top;\n",
       "    }\n",
       "\n",
       "    .dataframe thead th {\n",
       "        text-align: right;\n",
       "    }\n",
       "</style>\n",
       "<table border=\"1\" class=\"dataframe\">\n",
       "  <thead>\n",
       "    <tr style=\"text-align: right;\">\n",
       "      <th>attribute</th>\n",
       "      <th>v_nom</th>\n",
       "      <th>type</th>\n",
       "      <th>x</th>\n",
       "      <th>y</th>\n",
       "      <th>carrier</th>\n",
       "      <th>unit</th>\n",
       "      <th>v_mag_pu_set</th>\n",
       "      <th>v_mag_pu_min</th>\n",
       "      <th>v_mag_pu_max</th>\n",
       "      <th>control</th>\n",
       "      <th>generator</th>\n",
       "      <th>sub_network</th>\n",
       "    </tr>\n",
       "    <tr>\n",
       "      <th>Bus</th>\n",
       "      <th></th>\n",
       "      <th></th>\n",
       "      <th></th>\n",
       "      <th></th>\n",
       "      <th></th>\n",
       "      <th></th>\n",
       "      <th></th>\n",
       "      <th></th>\n",
       "      <th></th>\n",
       "      <th></th>\n",
       "      <th></th>\n",
       "      <th></th>\n",
       "    </tr>\n",
       "  </thead>\n",
       "  <tbody>\n",
       "    <tr>\n",
       "      <th>UA</th>\n",
       "      <td>380.0</td>\n",
       "      <td></td>\n",
       "      <td>0.0</td>\n",
       "      <td>0.0</td>\n",
       "      <td>AC</td>\n",
       "      <td>None</td>\n",
       "      <td>1.0</td>\n",
       "      <td>0.0</td>\n",
       "      <td>inf</td>\n",
       "      <td>PQ</td>\n",
       "      <td></td>\n",
       "      <td></td>\n",
       "    </tr>\n",
       "  </tbody>\n",
       "</table>\n",
       "</div>"
      ],
      "text/plain": [
       "attribute  v_nom type    x    y carrier  unit  v_mag_pu_set  v_mag_pu_min  \\\n",
       "Bus                                                                         \n",
       "UA         380.0       0.0  0.0      AC  None           1.0           0.0   \n",
       "\n",
       "attribute  v_mag_pu_max control generator sub_network  \n",
       "Bus                                                    \n",
       "UA                  inf      PQ                        "
      ]
     },
     "execution_count": 379,
     "metadata": {},
     "output_type": "execute_result"
    }
   ],
   "source": [
    "n.buses"
   ]
  },
  {
   "cell_type": "code",
   "execution_count": 380,
   "metadata": {},
   "outputs": [],
   "source": [
    "n.add(\n",
    "    \"Generator\",\n",
    "    \"gas\",\n",
    "    bus=\"UA\",\n",
    "    p_nom_extendable=False,\n",
    "    marginal_cost=70,  # €/MWh\n",
    "    p_nom=50,  # MW\n",
    ")\n",
    "n.add(\n",
    "    \"Generator\",\n",
    "    \"coal\",\n",
    "    bus=\"UA\",\n",
    "    p_nom_extendable=False,\n",
    "    marginal_cost=40,  # €/MWh\n",
    "    p_nom=100,  # MW\n",
    ")"
   ]
  },
  {
   "cell_type": "code",
   "execution_count": 381,
   "metadata": {},
   "outputs": [
    {
     "data": {
      "text/html": [
       "<div>\n",
       "<style scoped>\n",
       "    .dataframe tbody tr th:only-of-type {\n",
       "        vertical-align: middle;\n",
       "    }\n",
       "\n",
       "    .dataframe tbody tr th {\n",
       "        vertical-align: top;\n",
       "    }\n",
       "\n",
       "    .dataframe thead th {\n",
       "        text-align: right;\n",
       "    }\n",
       "</style>\n",
       "<table border=\"1\" class=\"dataframe\">\n",
       "  <thead>\n",
       "    <tr style=\"text-align: right;\">\n",
       "      <th>attribute</th>\n",
       "      <th>bus</th>\n",
       "      <th>control</th>\n",
       "      <th>type</th>\n",
       "      <th>p_nom</th>\n",
       "      <th>p_nom_extendable</th>\n",
       "      <th>p_nom_min</th>\n",
       "      <th>p_nom_max</th>\n",
       "      <th>p_min_pu</th>\n",
       "      <th>p_max_pu</th>\n",
       "      <th>p_set</th>\n",
       "      <th>...</th>\n",
       "      <th>min_up_time</th>\n",
       "      <th>min_down_time</th>\n",
       "      <th>up_time_before</th>\n",
       "      <th>down_time_before</th>\n",
       "      <th>ramp_limit_up</th>\n",
       "      <th>ramp_limit_down</th>\n",
       "      <th>ramp_limit_start_up</th>\n",
       "      <th>ramp_limit_shut_down</th>\n",
       "      <th>weight</th>\n",
       "      <th>p_nom_opt</th>\n",
       "    </tr>\n",
       "    <tr>\n",
       "      <th>Generator</th>\n",
       "      <th></th>\n",
       "      <th></th>\n",
       "      <th></th>\n",
       "      <th></th>\n",
       "      <th></th>\n",
       "      <th></th>\n",
       "      <th></th>\n",
       "      <th></th>\n",
       "      <th></th>\n",
       "      <th></th>\n",
       "      <th></th>\n",
       "      <th></th>\n",
       "      <th></th>\n",
       "      <th></th>\n",
       "      <th></th>\n",
       "      <th></th>\n",
       "      <th></th>\n",
       "      <th></th>\n",
       "      <th></th>\n",
       "      <th></th>\n",
       "      <th></th>\n",
       "    </tr>\n",
       "  </thead>\n",
       "  <tbody>\n",
       "    <tr>\n",
       "      <th>gas</th>\n",
       "      <td>UA</td>\n",
       "      <td>PQ</td>\n",
       "      <td></td>\n",
       "      <td>50.0</td>\n",
       "      <td>False</td>\n",
       "      <td>0.0</td>\n",
       "      <td>inf</td>\n",
       "      <td>0.0</td>\n",
       "      <td>1.0</td>\n",
       "      <td>0.0</td>\n",
       "      <td>...</td>\n",
       "      <td>0</td>\n",
       "      <td>0</td>\n",
       "      <td>1</td>\n",
       "      <td>0</td>\n",
       "      <td>NaN</td>\n",
       "      <td>NaN</td>\n",
       "      <td>1.0</td>\n",
       "      <td>1.0</td>\n",
       "      <td>1.0</td>\n",
       "      <td>0.0</td>\n",
       "    </tr>\n",
       "    <tr>\n",
       "      <th>coal</th>\n",
       "      <td>UA</td>\n",
       "      <td>PQ</td>\n",
       "      <td></td>\n",
       "      <td>100.0</td>\n",
       "      <td>False</td>\n",
       "      <td>0.0</td>\n",
       "      <td>inf</td>\n",
       "      <td>0.0</td>\n",
       "      <td>1.0</td>\n",
       "      <td>0.0</td>\n",
       "      <td>...</td>\n",
       "      <td>0</td>\n",
       "      <td>0</td>\n",
       "      <td>1</td>\n",
       "      <td>0</td>\n",
       "      <td>NaN</td>\n",
       "      <td>NaN</td>\n",
       "      <td>1.0</td>\n",
       "      <td>1.0</td>\n",
       "      <td>1.0</td>\n",
       "      <td>0.0</td>\n",
       "    </tr>\n",
       "  </tbody>\n",
       "</table>\n",
       "<p>2 rows × 33 columns</p>\n",
       "</div>"
      ],
      "text/plain": [
       "attribute bus control type  p_nom  p_nom_extendable  p_nom_min  p_nom_max  \\\n",
       "Generator                                                                   \n",
       "gas        UA      PQ        50.0             False        0.0        inf   \n",
       "coal       UA      PQ       100.0             False        0.0        inf   \n",
       "\n",
       "attribute  p_min_pu  p_max_pu  p_set  ...  min_up_time  min_down_time  \\\n",
       "Generator                             ...                               \n",
       "gas             0.0       1.0    0.0  ...            0              0   \n",
       "coal            0.0       1.0    0.0  ...            0              0   \n",
       "\n",
       "attribute up_time_before  down_time_before  ramp_limit_up  ramp_limit_down  \\\n",
       "Generator                                                                    \n",
       "gas                    1                 0            NaN              NaN   \n",
       "coal                   1                 0            NaN              NaN   \n",
       "\n",
       "attribute  ramp_limit_start_up  ramp_limit_shut_down  weight  p_nom_opt  \n",
       "Generator                                                                \n",
       "gas                        1.0                   1.0     1.0        0.0  \n",
       "coal                       1.0                   1.0     1.0        0.0  \n",
       "\n",
       "[2 rows x 33 columns]"
      ]
     },
     "execution_count": 381,
     "metadata": {},
     "output_type": "execute_result"
    }
   ],
   "source": [
    "n.generators"
   ]
  },
  {
   "cell_type": "code",
   "execution_count": 382,
   "metadata": {},
   "outputs": [],
   "source": [
    "# your code\n",
    "n.add(\n",
    "    \"Load\",\n",
    "    \"demand\",\n",
    "    bus=\"UA\",\n",
    "    p_set=pd.Series([120], index=[\"now\"]),  # MW\n",
    ")"
   ]
  },
  {
   "cell_type": "code",
   "execution_count": 383,
   "metadata": {},
   "outputs": [
    {
     "data": {
      "text/html": [
       "<div>\n",
       "<style scoped>\n",
       "    .dataframe tbody tr th:only-of-type {\n",
       "        vertical-align: middle;\n",
       "    }\n",
       "\n",
       "    .dataframe tbody tr th {\n",
       "        vertical-align: top;\n",
       "    }\n",
       "\n",
       "    .dataframe thead th {\n",
       "        text-align: right;\n",
       "    }\n",
       "</style>\n",
       "<table border=\"1\" class=\"dataframe\">\n",
       "  <thead>\n",
       "    <tr style=\"text-align: right;\">\n",
       "      <th>attribute</th>\n",
       "      <th>bus</th>\n",
       "      <th>carrier</th>\n",
       "      <th>type</th>\n",
       "      <th>p_set</th>\n",
       "      <th>q_set</th>\n",
       "      <th>sign</th>\n",
       "    </tr>\n",
       "    <tr>\n",
       "      <th>Load</th>\n",
       "      <th></th>\n",
       "      <th></th>\n",
       "      <th></th>\n",
       "      <th></th>\n",
       "      <th></th>\n",
       "      <th></th>\n",
       "    </tr>\n",
       "  </thead>\n",
       "  <tbody>\n",
       "    <tr>\n",
       "      <th>demand</th>\n",
       "      <td>UA</td>\n",
       "      <td></td>\n",
       "      <td></td>\n",
       "      <td>0.0</td>\n",
       "      <td>0.0</td>\n",
       "      <td>-1.0</td>\n",
       "    </tr>\n",
       "  </tbody>\n",
       "</table>\n",
       "</div>"
      ],
      "text/plain": [
       "attribute bus carrier type  p_set  q_set  sign\n",
       "Load                                          \n",
       "demand     UA                 0.0    0.0  -1.0"
      ]
     },
     "execution_count": 383,
     "metadata": {},
     "output_type": "execute_result"
    }
   ],
   "source": [
    "n.loads"
   ]
  },
  {
   "cell_type": "markdown",
   "metadata": {},
   "source": [
    "### Solve"
   ]
  },
  {
   "cell_type": "code",
   "execution_count": 384,
   "metadata": {},
   "outputs": [
    {
     "name": "stderr",
     "output_type": "stream",
     "text": [
      "INFO:linopy.model: Solve problem using Glpk solver\n",
      "INFO:linopy.io: Writing time: 0.01s\n",
      "INFO:linopy.constants: Optimization successful: \n",
      "Status: ok\n",
      "Termination condition: optimal\n",
      "Solution: 2 primals, 5 duals\n",
      "Objective: 5.40e+03\n",
      "Solver model: not available\n",
      "Solver message: optimal\n",
      "\n",
      "INFO:pypsa.optimization.optimize:The shadow-prices of the constraints Generator-fix-p-lower, Generator-fix-p-upper were not assigned to the network.\n"
     ]
    },
    {
     "name": "stdout",
     "output_type": "stream",
     "text": [
      "GLPSOL--GLPK LP/MIP Solver 5.0\n",
      "Parameter(s) specified in the command line:\n",
      " --lp /tmp/linopy-problem-g38s06y5.lp --output /tmp/linopy-solve-jh1i8amd.sol\n",
      "Reading problem data from '/tmp/linopy-problem-g38s06y5.lp'...\n",
      "5 rows, 2 columns, 6 non-zeros\n",
      "35 lines were read\n",
      "GLPK Simplex Optimizer 5.0\n",
      "5 rows, 2 columns, 6 non-zeros\n",
      "Preprocessing...\n",
      "~     0: obj =   5.400000000e+03  infeas =  0.000e+00\n",
      "OPTIMAL SOLUTION FOUND BY LP PREPROCESSOR\n",
      "Time used:   0.0 secs\n",
      "Memory used: 0.0 Mb (39693 bytes)\n",
      "Writing basic solution to '/tmp/linopy-solve-jh1i8amd.sol'...\n"
     ]
    },
    {
     "data": {
      "text/plain": [
       "('ok', 'optimal')"
      ]
     },
     "execution_count": 384,
     "metadata": {},
     "output_type": "execute_result"
    }
   ],
   "source": [
    "n.optimize(solver_name=\"glpk\")"
   ]
  },
  {
   "cell_type": "code",
   "execution_count": 385,
   "metadata": {},
   "outputs": [],
   "source": [
    "# n.model.dual"
   ]
  },
  {
   "cell_type": "markdown",
   "metadata": {},
   "source": [
    "### Solve problem manually "
   ]
  },
  {
   "cell_type": "code",
   "execution_count": 386,
   "metadata": {},
   "outputs": [],
   "source": [
    "# IPAD"
   ]
  },
  {
   "cell_type": "markdown",
   "metadata": {},
   "source": [
    "### Explore pypsa model"
   ]
  },
  {
   "cell_type": "code",
   "execution_count": 310,
   "metadata": {},
   "outputs": [
    {
     "data": {
      "text/plain": [
       "Linopy LP model\n",
       "===============\n",
       "\n",
       "Variables:\n",
       "----------\n",
       " * Generator-p (snapshot, Generator)\n",
       "\n",
       "Constraints:\n",
       "------------\n",
       " * Generator-fix-p-lower (snapshot, Generator-fix)\n",
       " * Generator-fix-p-upper (snapshot, Generator-fix)\n",
       " * Bus-nodal_balance (Bus, snapshot)\n",
       "\n",
       "Status:\n",
       "-------\n",
       "initialized"
      ]
     },
     "execution_count": 310,
     "metadata": {},
     "output_type": "execute_result"
    }
   ],
   "source": [
    "n.optimize.create_model()"
   ]
  },
  {
   "cell_type": "markdown",
   "metadata": {},
   "source": []
  },
  {
   "cell_type": "code",
   "execution_count": 388,
   "metadata": {},
   "outputs": [
    {
     "data": {
      "text/plain": [
       "Objective:\n",
       "----------\n",
       "LinearExpression: +70 Generator-p[now, gas] + 40 Generator-p[now, coal]\n",
       "Sense: min\n",
       "Value: 5400.0"
      ]
     },
     "execution_count": 388,
     "metadata": {},
     "output_type": "execute_result"
    }
   ],
   "source": [
    "n.model.objective"
   ]
  },
  {
   "cell_type": "code",
   "execution_count": 312,
   "metadata": {},
   "outputs": [
    {
     "data": {
      "text/plain": [
       "linopy.model.Constraints\n",
       "------------------------\n",
       " * Generator-fix-p-lower (snapshot, Generator-fix)\n",
       " * Generator-fix-p-upper (snapshot, Generator-fix)\n",
       " * Bus-nodal_balance (Bus, snapshot)"
      ]
     },
     "execution_count": 312,
     "metadata": {},
     "output_type": "execute_result"
    }
   ],
   "source": [
    "n.model.constraints"
   ]
  },
  {
   "cell_type": "code",
   "execution_count": 391,
   "metadata": {},
   "outputs": [],
   "source": [
    "# n.model.constraints['Generator-fix-p-upper']"
   ]
  },
  {
   "cell_type": "code",
   "execution_count": 392,
   "metadata": {},
   "outputs": [],
   "source": [
    "# n.model.constraints['Bus-nodal_balance']"
   ]
  },
  {
   "cell_type": "markdown",
   "metadata": {},
   "source": [
    "# Reproduce linopy expressions"
   ]
  },
  {
   "cell_type": "code",
   "execution_count": 393,
   "metadata": {},
   "outputs": [],
   "source": [
    "# reproduce objective\n",
    "# n.model['Generator-p'].loc[:, 'gas'] * n.generators.marginal_cost.loc['gas'] + n.model['Generator-p'].loc[:, 'coal'] * n.generators.marginal_cost.loc['coal']"
   ]
  },
  {
   "cell_type": "code",
   "execution_count": 394,
   "metadata": {},
   "outputs": [],
   "source": [
    "# reproduce ['Generator-fix-p-lower']\n",
    "# n.model['Generator-p'].loc[:, 'gas'] >= 0\n",
    "# n.model['Generator-p'].loc[:, 'coal'] >= 0"
   ]
  },
  {
   "cell_type": "code",
   "execution_count": 395,
   "metadata": {},
   "outputs": [],
   "source": [
    "# reproduce ['Generator-fix-p-upper']\n",
    "# n.model['Generator-p'].loc[:, 'gas'] <= n.generators.p_nom.loc['gas']\n",
    "# n.model['Generator-p'].loc[:, 'coal'] <= n.generators.p_nom.loc['coal']"
   ]
  },
  {
   "cell_type": "code",
   "execution_count": 396,
   "metadata": {},
   "outputs": [],
   "source": [
    "# reproduce ['Bus-nodal_balance']\n",
    "# n.model['Generator-p'].sum(dims='Generator') == n.loads_t.p_set['demand']"
   ]
  },
  {
   "cell_type": "markdown",
   "metadata": {},
   "source": [
    "# Rewrite pypsa default equations\n"
   ]
  },
  {
   "cell_type": "code",
   "execution_count": 399,
   "metadata": {},
   "outputs": [],
   "source": [
    "for name in list(n.model.constraints):\n",
    "    n.model.remove_constraints(name)"
   ]
  },
  {
   "cell_type": "code",
   "execution_count": 400,
   "metadata": {},
   "outputs": [
    {
     "data": {
      "text/plain": [
       "linopy.model.Constraints\n",
       "------------------------\n",
       "<empty>"
      ]
     },
     "execution_count": 400,
     "metadata": {},
     "output_type": "execute_result"
    }
   ],
   "source": [
    "n.model.constraints"
   ]
  },
  {
   "cell_type": "code",
   "execution_count": 401,
   "metadata": {},
   "outputs": [],
   "source": [
    "n.model.objective.expression = linopy.LinearExpression(None, model=n.model)"
   ]
  },
  {
   "cell_type": "code",
   "execution_count": 402,
   "metadata": {},
   "outputs": [
    {
     "data": {
      "text/plain": [
       "LinearExpression\n",
       "----------------\n",
       "+0"
      ]
     },
     "execution_count": 402,
     "metadata": {},
     "output_type": "execute_result"
    }
   ],
   "source": [
    "n.model.objective.expression"
   ]
  },
  {
   "cell_type": "markdown",
   "metadata": {},
   "source": [
    "### rewrite objective"
   ]
  },
  {
   "cell_type": "code",
   "execution_count": 398,
   "metadata": {},
   "outputs": [
    {
     "data": {
      "text/plain": [
       "LinearExpression (snapshot: 1):\n",
       "-------------------------------\n",
       "[now]: +70 Generator-p[now, gas] + 40 Generator-p[now, coal]"
      ]
     },
     "execution_count": 398,
     "metadata": {},
     "output_type": "execute_result"
    }
   ],
   "source": [
    "(\n",
    "    n.model[\"Generator-p\"].loc[:, \"gas\"] * n.generators.marginal_cost.loc[\"gas\"]\n",
    "    + n.model[\"Generator-p\"].loc[:, \"coal\"] * n.generators.marginal_cost.loc[\"coal\"]\n",
    ")"
   ]
  },
  {
   "cell_type": "code",
   "execution_count": 403,
   "metadata": {},
   "outputs": [],
   "source": [
    "n.model.objective.expression = (\n",
    "    n.model[\"Generator-p\"].loc[:, \"gas\"] * n.generators.marginal_cost.loc[\"gas\"]\n",
    "    + n.model[\"Generator-p\"].loc[:, \"coal\"] * n.generators.marginal_cost.loc[\"coal\"]\n",
    ")"
   ]
  },
  {
   "cell_type": "code",
   "execution_count": 404,
   "metadata": {},
   "outputs": [
    {
     "data": {
      "text/plain": [
       "Objective:\n",
       "----------\n",
       "LinearExpression: +70 Generator-p[now, gas] + 40 Generator-p[now, coal]\n",
       "Sense: min\n",
       "Value: 5400.0"
      ]
     },
     "execution_count": 404,
     "metadata": {},
     "output_type": "execute_result"
    }
   ],
   "source": [
    "n.model.objective"
   ]
  },
  {
   "cell_type": "markdown",
   "metadata": {},
   "source": [
    "### rewrite constraints"
   ]
  },
  {
   "cell_type": "code",
   "execution_count": 405,
   "metadata": {},
   "outputs": [
    {
     "data": {
      "text/plain": [
       "Constraint `nodal_balance` (snapshot: 1):\n",
       "-----------------------------------------\n",
       "[now]: +1 Generator-p[now, gas] + 1 Generator-p[now, coal] = 120.0"
      ]
     },
     "execution_count": 405,
     "metadata": {},
     "output_type": "execute_result"
    }
   ],
   "source": [
    "n.model.add_constraints(\n",
    "    n.model[\"Generator-p\"].sum(dims=\"Generator\") == n.loads_t.p_set[\"demand\"],\n",
    "    name=\"nodal_balance\",\n",
    ")"
   ]
  },
  {
   "cell_type": "code",
   "execution_count": 406,
   "metadata": {},
   "outputs": [
    {
     "data": {
      "text/plain": [
       "Constraint `p_lower_gas` (snapshot: 1):\n",
       "---------------------------------------\n",
       "[now]: +1 Generator-p[now, gas] ≥ -0.0"
      ]
     },
     "execution_count": 406,
     "metadata": {},
     "output_type": "execute_result"
    }
   ],
   "source": [
    "n.model.add_constraints(n.model[\"Generator-p\"].loc[:, \"gas\"] >= 0, name=\"p_lower_gas\")"
   ]
  },
  {
   "cell_type": "code",
   "execution_count": 407,
   "metadata": {},
   "outputs": [
    {
     "data": {
      "text/plain": [
       "Constraint `p_lower_coal` (snapshot: 1):\n",
       "----------------------------------------\n",
       "[now]: +1 Generator-p[now, coal] ≥ -0.0"
      ]
     },
     "execution_count": 407,
     "metadata": {},
     "output_type": "execute_result"
    }
   ],
   "source": [
    "n.model.add_constraints(n.model[\"Generator-p\"].loc[:, \"coal\"] >= 0, name=\"p_lower_coal\")"
   ]
  },
  {
   "cell_type": "code",
   "execution_count": 408,
   "metadata": {},
   "outputs": [
    {
     "data": {
      "text/plain": [
       "Constraint `p_upper_gas` (snapshot: 1):\n",
       "---------------------------------------\n",
       "[now]: +1 Generator-p[now, gas] ≤ 50.0"
      ]
     },
     "execution_count": 408,
     "metadata": {},
     "output_type": "execute_result"
    }
   ],
   "source": [
    "n.model.add_constraints(\n",
    "    n.model[\"Generator-p\"].loc[:, \"gas\"] <= n.generators.p_nom.loc[\"gas\"],\n",
    "    name=\"p_upper_gas\",\n",
    ")"
   ]
  },
  {
   "cell_type": "code",
   "execution_count": 410,
   "metadata": {},
   "outputs": [
    {
     "data": {
      "text/plain": [
       "Constraint `p_upper_coal` (snapshot: 1):\n",
       "----------------------------------------\n",
       "[now]: +1 Generator-p[now, coal] ≤ 100.0"
      ]
     },
     "execution_count": 410,
     "metadata": {},
     "output_type": "execute_result"
    }
   ],
   "source": [
    "n.model.add_constraints(\n",
    "    n.model[\"Generator-p\"].loc[:, \"coal\"] <= n.generators.p_nom.loc[\"coal\"],\n",
    "    name=\"p_upper_coal\",\n",
    ")"
   ]
  },
  {
   "cell_type": "code",
   "execution_count": 413,
   "metadata": {},
   "outputs": [
    {
     "data": {
      "text/plain": [
       "linopy.model.Constraints\n",
       "------------------------\n",
       " * nodal_balance (snapshot)\n",
       " * p_lower_gas (Generator, snapshot)\n",
       " * p_lower_coal (Generator, snapshot)\n",
       " * p_upper_gas (Generator, snapshot)\n",
       " * p_upper_coal (Generator, snapshot)"
      ]
     },
     "execution_count": 413,
     "metadata": {},
     "output_type": "execute_result"
    }
   ],
   "source": [
    "n.model.constraints"
   ]
  },
  {
   "cell_type": "markdown",
   "metadata": {},
   "source": [
    "### re-solve"
   ]
  },
  {
   "cell_type": "code",
   "execution_count": 411,
   "metadata": {},
   "outputs": [
    {
     "name": "stderr",
     "output_type": "stream",
     "text": [
      "INFO:linopy.model: Solve problem using Glpk solver\n",
      "INFO:linopy.io: Writing time: 0.02s\n",
      "INFO:linopy.constants: Optimization successful: \n",
      "Status: ok\n",
      "Termination condition: optimal\n",
      "Solution: 2 primals, 5 duals\n",
      "Objective: 5.40e+03\n",
      "Solver model: not available\n",
      "Solver message: optimal\n",
      "\n"
     ]
    },
    {
     "name": "stdout",
     "output_type": "stream",
     "text": [
      "GLPSOL--GLPK LP/MIP Solver 5.0\n",
      "Parameter(s) specified in the command line:\n",
      " --lp /tmp/linopy-problem-30yq1qi8.lp --output /tmp/linopy-solve-tdexfo7l.sol\n",
      "Reading problem data from '/tmp/linopy-problem-30yq1qi8.lp'...\n",
      "5 rows, 2 columns, 6 non-zeros\n",
      "33 lines were read\n",
      "GLPK Simplex Optimizer 5.0\n",
      "5 rows, 2 columns, 6 non-zeros\n",
      "Preprocessing...\n",
      "~     0: obj =   5.400000000e+03  infeas =  0.000e+00\n",
      "OPTIMAL SOLUTION FOUND BY LP PREPROCESSOR\n",
      "Time used:   0.0 secs\n",
      "Memory used: 0.0 Mb (39693 bytes)\n",
      "Writing basic solution to '/tmp/linopy-solve-tdexfo7l.sol'...\n"
     ]
    },
    {
     "data": {
      "text/plain": [
       "('ok', 'optimal')"
      ]
     },
     "execution_count": 411,
     "metadata": {},
     "output_type": "execute_result"
    }
   ],
   "source": [
    "n.model.solve(solver_name=\"glpk\")"
   ]
  },
  {
   "cell_type": "code",
   "execution_count": 412,
   "metadata": {},
   "outputs": [
    {
     "data": {
      "text/plain": [
       "Objective:\n",
       "----------\n",
       "LinearExpression: +70 Generator-p[now, gas] + 40 Generator-p[now, coal]\n",
       "Sense: min\n",
       "Value: 5400.0"
      ]
     },
     "execution_count": 412,
     "metadata": {},
     "output_type": "execute_result"
    }
   ],
   "source": [
    "n.model.objective"
   ]
  },
  {
   "cell_type": "code",
   "execution_count": 414,
   "metadata": {},
   "outputs": [
    {
     "data": {
      "text/html": [
       "<div>\n",
       "<style scoped>\n",
       "    .dataframe tbody tr th:only-of-type {\n",
       "        vertical-align: middle;\n",
       "    }\n",
       "\n",
       "    .dataframe tbody tr th {\n",
       "        vertical-align: top;\n",
       "    }\n",
       "\n",
       "    .dataframe thead th {\n",
       "        text-align: right;\n",
       "    }\n",
       "</style>\n",
       "<table border=\"1\" class=\"dataframe\">\n",
       "  <thead>\n",
       "    <tr style=\"text-align: right;\">\n",
       "      <th>Generator</th>\n",
       "      <th>gas</th>\n",
       "      <th>coal</th>\n",
       "    </tr>\n",
       "    <tr>\n",
       "      <th>snapshot</th>\n",
       "      <th></th>\n",
       "      <th></th>\n",
       "    </tr>\n",
       "  </thead>\n",
       "  <tbody>\n",
       "    <tr>\n",
       "      <th>now</th>\n",
       "      <td>20.0</td>\n",
       "      <td>100.0</td>\n",
       "    </tr>\n",
       "  </tbody>\n",
       "</table>\n",
       "</div>"
      ],
      "text/plain": [
       "Generator   gas   coal\n",
       "snapshot              \n",
       "now        20.0  100.0"
      ]
     },
     "execution_count": 414,
     "metadata": {},
     "output_type": "execute_result"
    }
   ],
   "source": [
    "n.generators_t.p"
   ]
  },
  {
   "cell_type": "markdown",
   "metadata": {},
   "source": [
    "## Hometask"
   ]
  },
  {
   "cell_type": "code",
   "execution_count": 417,
   "metadata": {},
   "outputs": [
    {
     "name": "stderr",
     "output_type": "stream",
     "text": [
      "INFO:linopy.model: Solve problem using Glpk solver\n",
      "INFO:linopy.io: Writing time: 0.01s\n",
      "INFO:linopy.constants: Optimization successful: \n",
      "Status: ok\n",
      "Termination condition: optimal\n",
      "Solution: 2 primals, 5 duals\n",
      "Objective: 5.40e+03\n",
      "Solver model: not available\n",
      "Solver message: optimal\n",
      "\n",
      "INFO:pypsa.optimization.optimize:The shadow-prices of the constraints Generator-fix-p-lower, Generator-fix-p-upper were not assigned to the network.\n"
     ]
    },
    {
     "name": "stdout",
     "output_type": "stream",
     "text": [
      "GLPSOL--GLPK LP/MIP Solver 5.0\n",
      "Parameter(s) specified in the command line:\n",
      " --lp /tmp/linopy-problem-0a6twjg0.lp --output /tmp/linopy-solve-x8ho5e0a.sol\n",
      "Reading problem data from '/tmp/linopy-problem-0a6twjg0.lp'...\n",
      "5 rows, 2 columns, 6 non-zeros\n",
      "35 lines were read\n",
      "GLPK Simplex Optimizer 5.0\n",
      "5 rows, 2 columns, 6 non-zeros\n",
      "Preprocessing...\n",
      "~     0: obj =   5.400000000e+03  infeas =  0.000e+00\n",
      "OPTIMAL SOLUTION FOUND BY LP PREPROCESSOR\n",
      "Time used:   0.0 secs\n",
      "Memory used: 0.0 Mb (39693 bytes)\n",
      "Writing basic solution to '/tmp/linopy-solve-x8ho5e0a.sol'...\n"
     ]
    },
    {
     "data": {
      "text/plain": [
       "('ok', 'optimal')"
      ]
     },
     "execution_count": 417,
     "metadata": {},
     "output_type": "execute_result"
    }
   ],
   "source": [
    "n.optimize()"
   ]
  },
  {
   "cell_type": "code",
   "execution_count": 420,
   "metadata": {},
   "outputs": [
    {
     "data": {
      "text/html": [
       "<div><svg style=\"position: absolute; width: 0; height: 0; overflow: hidden\">\n",
       "<defs>\n",
       "<symbol id=\"icon-database\" viewBox=\"0 0 32 32\">\n",
       "<path d=\"M16 0c-8.837 0-16 2.239-16 5v4c0 2.761 7.163 5 16 5s16-2.239 16-5v-4c0-2.761-7.163-5-16-5z\"></path>\n",
       "<path d=\"M16 17c-8.837 0-16-2.239-16-5v6c0 2.761 7.163 5 16 5s16-2.239 16-5v-6c0 2.761-7.163 5-16 5z\"></path>\n",
       "<path d=\"M16 26c-8.837 0-16-2.239-16-5v6c0 2.761 7.163 5 16 5s16-2.239 16-5v-6c0 2.761-7.163 5-16 5z\"></path>\n",
       "</symbol>\n",
       "<symbol id=\"icon-file-text2\" viewBox=\"0 0 32 32\">\n",
       "<path d=\"M28.681 7.159c-0.694-0.947-1.662-2.053-2.724-3.116s-2.169-2.030-3.116-2.724c-1.612-1.182-2.393-1.319-2.841-1.319h-15.5c-1.378 0-2.5 1.121-2.5 2.5v27c0 1.378 1.122 2.5 2.5 2.5h23c1.378 0 2.5-1.122 2.5-2.5v-19.5c0-0.448-0.137-1.23-1.319-2.841zM24.543 5.457c0.959 0.959 1.712 1.825 2.268 2.543h-4.811v-4.811c0.718 0.556 1.584 1.309 2.543 2.268zM28 29.5c0 0.271-0.229 0.5-0.5 0.5h-23c-0.271 0-0.5-0.229-0.5-0.5v-27c0-0.271 0.229-0.5 0.5-0.5 0 0 15.499-0 15.5 0v7c0 0.552 0.448 1 1 1h7v19.5z\"></path>\n",
       "<path d=\"M23 26h-14c-0.552 0-1-0.448-1-1s0.448-1 1-1h14c0.552 0 1 0.448 1 1s-0.448 1-1 1z\"></path>\n",
       "<path d=\"M23 22h-14c-0.552 0-1-0.448-1-1s0.448-1 1-1h14c0.552 0 1 0.448 1 1s-0.448 1-1 1z\"></path>\n",
       "<path d=\"M23 18h-14c-0.552 0-1-0.448-1-1s0.448-1 1-1h14c0.552 0 1 0.448 1 1s-0.448 1-1 1z\"></path>\n",
       "</symbol>\n",
       "</defs>\n",
       "</svg>\n",
       "<style>/* CSS stylesheet for displaying xarray objects in jupyterlab.\n",
       " *\n",
       " */\n",
       "\n",
       ":root {\n",
       "  --xr-font-color0: var(--jp-content-font-color0, rgba(0, 0, 0, 1));\n",
       "  --xr-font-color2: var(--jp-content-font-color2, rgba(0, 0, 0, 0.54));\n",
       "  --xr-font-color3: var(--jp-content-font-color3, rgba(0, 0, 0, 0.38));\n",
       "  --xr-border-color: var(--jp-border-color2, #e0e0e0);\n",
       "  --xr-disabled-color: var(--jp-layout-color3, #bdbdbd);\n",
       "  --xr-background-color: var(--jp-layout-color0, white);\n",
       "  --xr-background-color-row-even: var(--jp-layout-color1, white);\n",
       "  --xr-background-color-row-odd: var(--jp-layout-color2, #eeeeee);\n",
       "}\n",
       "\n",
       "html[theme=dark],\n",
       "body[data-theme=dark],\n",
       "body.vscode-dark {\n",
       "  --xr-font-color0: rgba(255, 255, 255, 1);\n",
       "  --xr-font-color2: rgba(255, 255, 255, 0.54);\n",
       "  --xr-font-color3: rgba(255, 255, 255, 0.38);\n",
       "  --xr-border-color: #1F1F1F;\n",
       "  --xr-disabled-color: #515151;\n",
       "  --xr-background-color: #111111;\n",
       "  --xr-background-color-row-even: #111111;\n",
       "  --xr-background-color-row-odd: #313131;\n",
       "}\n",
       "\n",
       ".xr-wrap {\n",
       "  display: block !important;\n",
       "  min-width: 300px;\n",
       "  max-width: 700px;\n",
       "}\n",
       "\n",
       ".xr-text-repr-fallback {\n",
       "  /* fallback to plain text repr when CSS is not injected (untrusted notebook) */\n",
       "  display: none;\n",
       "}\n",
       "\n",
       ".xr-header {\n",
       "  padding-top: 6px;\n",
       "  padding-bottom: 6px;\n",
       "  margin-bottom: 4px;\n",
       "  border-bottom: solid 1px var(--xr-border-color);\n",
       "}\n",
       "\n",
       ".xr-header > div,\n",
       ".xr-header > ul {\n",
       "  display: inline;\n",
       "  margin-top: 0;\n",
       "  margin-bottom: 0;\n",
       "}\n",
       "\n",
       ".xr-obj-type,\n",
       ".xr-array-name {\n",
       "  margin-left: 2px;\n",
       "  margin-right: 10px;\n",
       "}\n",
       "\n",
       ".xr-obj-type {\n",
       "  color: var(--xr-font-color2);\n",
       "}\n",
       "\n",
       ".xr-sections {\n",
       "  padding-left: 0 !important;\n",
       "  display: grid;\n",
       "  grid-template-columns: 150px auto auto 1fr 20px 20px;\n",
       "}\n",
       "\n",
       ".xr-section-item {\n",
       "  display: contents;\n",
       "}\n",
       "\n",
       ".xr-section-item input {\n",
       "  display: none;\n",
       "}\n",
       "\n",
       ".xr-section-item input + label {\n",
       "  color: var(--xr-disabled-color);\n",
       "}\n",
       "\n",
       ".xr-section-item input:enabled + label {\n",
       "  cursor: pointer;\n",
       "  color: var(--xr-font-color2);\n",
       "}\n",
       "\n",
       ".xr-section-item input:enabled + label:hover {\n",
       "  color: var(--xr-font-color0);\n",
       "}\n",
       "\n",
       ".xr-section-summary {\n",
       "  grid-column: 1;\n",
       "  color: var(--xr-font-color2);\n",
       "  font-weight: 500;\n",
       "}\n",
       "\n",
       ".xr-section-summary > span {\n",
       "  display: inline-block;\n",
       "  padding-left: 0.5em;\n",
       "}\n",
       "\n",
       ".xr-section-summary-in:disabled + label {\n",
       "  color: var(--xr-font-color2);\n",
       "}\n",
       "\n",
       ".xr-section-summary-in + label:before {\n",
       "  display: inline-block;\n",
       "  content: '►';\n",
       "  font-size: 11px;\n",
       "  width: 15px;\n",
       "  text-align: center;\n",
       "}\n",
       "\n",
       ".xr-section-summary-in:disabled + label:before {\n",
       "  color: var(--xr-disabled-color);\n",
       "}\n",
       "\n",
       ".xr-section-summary-in:checked + label:before {\n",
       "  content: '▼';\n",
       "}\n",
       "\n",
       ".xr-section-summary-in:checked + label > span {\n",
       "  display: none;\n",
       "}\n",
       "\n",
       ".xr-section-summary,\n",
       ".xr-section-inline-details {\n",
       "  padding-top: 4px;\n",
       "  padding-bottom: 4px;\n",
       "}\n",
       "\n",
       ".xr-section-inline-details {\n",
       "  grid-column: 2 / -1;\n",
       "}\n",
       "\n",
       ".xr-section-details {\n",
       "  display: none;\n",
       "  grid-column: 1 / -1;\n",
       "  margin-bottom: 5px;\n",
       "}\n",
       "\n",
       ".xr-section-summary-in:checked ~ .xr-section-details {\n",
       "  display: contents;\n",
       "}\n",
       "\n",
       ".xr-array-wrap {\n",
       "  grid-column: 1 / -1;\n",
       "  display: grid;\n",
       "  grid-template-columns: 20px auto;\n",
       "}\n",
       "\n",
       ".xr-array-wrap > label {\n",
       "  grid-column: 1;\n",
       "  vertical-align: top;\n",
       "}\n",
       "\n",
       ".xr-preview {\n",
       "  color: var(--xr-font-color3);\n",
       "}\n",
       "\n",
       ".xr-array-preview,\n",
       ".xr-array-data {\n",
       "  padding: 0 5px !important;\n",
       "  grid-column: 2;\n",
       "}\n",
       "\n",
       ".xr-array-data,\n",
       ".xr-array-in:checked ~ .xr-array-preview {\n",
       "  display: none;\n",
       "}\n",
       "\n",
       ".xr-array-in:checked ~ .xr-array-data,\n",
       ".xr-array-preview {\n",
       "  display: inline-block;\n",
       "}\n",
       "\n",
       ".xr-dim-list {\n",
       "  display: inline-block !important;\n",
       "  list-style: none;\n",
       "  padding: 0 !important;\n",
       "  margin: 0;\n",
       "}\n",
       "\n",
       ".xr-dim-list li {\n",
       "  display: inline-block;\n",
       "  padding: 0;\n",
       "  margin: 0;\n",
       "}\n",
       "\n",
       ".xr-dim-list:before {\n",
       "  content: '(';\n",
       "}\n",
       "\n",
       ".xr-dim-list:after {\n",
       "  content: ')';\n",
       "}\n",
       "\n",
       ".xr-dim-list li:not(:last-child):after {\n",
       "  content: ',';\n",
       "  padding-right: 5px;\n",
       "}\n",
       "\n",
       ".xr-has-index {\n",
       "  font-weight: bold;\n",
       "}\n",
       "\n",
       ".xr-var-list,\n",
       ".xr-var-item {\n",
       "  display: contents;\n",
       "}\n",
       "\n",
       ".xr-var-item > div,\n",
       ".xr-var-item label,\n",
       ".xr-var-item > .xr-var-name span {\n",
       "  background-color: var(--xr-background-color-row-even);\n",
       "  margin-bottom: 0;\n",
       "}\n",
       "\n",
       ".xr-var-item > .xr-var-name:hover span {\n",
       "  padding-right: 5px;\n",
       "}\n",
       "\n",
       ".xr-var-list > li:nth-child(odd) > div,\n",
       ".xr-var-list > li:nth-child(odd) > label,\n",
       ".xr-var-list > li:nth-child(odd) > .xr-var-name span {\n",
       "  background-color: var(--xr-background-color-row-odd);\n",
       "}\n",
       "\n",
       ".xr-var-name {\n",
       "  grid-column: 1;\n",
       "}\n",
       "\n",
       ".xr-var-dims {\n",
       "  grid-column: 2;\n",
       "}\n",
       "\n",
       ".xr-var-dtype {\n",
       "  grid-column: 3;\n",
       "  text-align: right;\n",
       "  color: var(--xr-font-color2);\n",
       "}\n",
       "\n",
       ".xr-var-preview {\n",
       "  grid-column: 4;\n",
       "}\n",
       "\n",
       ".xr-index-preview {\n",
       "  grid-column: 2 / 5;\n",
       "  color: var(--xr-font-color2);\n",
       "}\n",
       "\n",
       ".xr-var-name,\n",
       ".xr-var-dims,\n",
       ".xr-var-dtype,\n",
       ".xr-preview,\n",
       ".xr-attrs dt {\n",
       "  white-space: nowrap;\n",
       "  overflow: hidden;\n",
       "  text-overflow: ellipsis;\n",
       "  padding-right: 10px;\n",
       "}\n",
       "\n",
       ".xr-var-name:hover,\n",
       ".xr-var-dims:hover,\n",
       ".xr-var-dtype:hover,\n",
       ".xr-attrs dt:hover {\n",
       "  overflow: visible;\n",
       "  width: auto;\n",
       "  z-index: 1;\n",
       "}\n",
       "\n",
       ".xr-var-attrs,\n",
       ".xr-var-data,\n",
       ".xr-index-data {\n",
       "  display: none;\n",
       "  background-color: var(--xr-background-color) !important;\n",
       "  padding-bottom: 5px !important;\n",
       "}\n",
       "\n",
       ".xr-var-attrs-in:checked ~ .xr-var-attrs,\n",
       ".xr-var-data-in:checked ~ .xr-var-data,\n",
       ".xr-index-data-in:checked ~ .xr-index-data {\n",
       "  display: block;\n",
       "}\n",
       "\n",
       ".xr-var-data > table {\n",
       "  float: right;\n",
       "}\n",
       "\n",
       ".xr-var-name span,\n",
       ".xr-var-data,\n",
       ".xr-index-name div,\n",
       ".xr-index-data,\n",
       ".xr-attrs {\n",
       "  padding-left: 25px !important;\n",
       "}\n",
       "\n",
       ".xr-attrs,\n",
       ".xr-var-attrs,\n",
       ".xr-var-data,\n",
       ".xr-index-data {\n",
       "  grid-column: 1 / -1;\n",
       "}\n",
       "\n",
       "dl.xr-attrs {\n",
       "  padding: 0;\n",
       "  margin: 0;\n",
       "  display: grid;\n",
       "  grid-template-columns: 125px auto;\n",
       "}\n",
       "\n",
       ".xr-attrs dt,\n",
       ".xr-attrs dd {\n",
       "  padding: 0;\n",
       "  margin: 0;\n",
       "  float: left;\n",
       "  padding-right: 10px;\n",
       "  width: auto;\n",
       "}\n",
       "\n",
       ".xr-attrs dt {\n",
       "  font-weight: normal;\n",
       "  grid-column: 1;\n",
       "}\n",
       "\n",
       ".xr-attrs dt:hover span {\n",
       "  display: inline-block;\n",
       "  background: var(--xr-background-color);\n",
       "  padding-right: 10px;\n",
       "}\n",
       "\n",
       ".xr-attrs dd {\n",
       "  grid-column: 2;\n",
       "  white-space: pre-wrap;\n",
       "  word-break: break-all;\n",
       "}\n",
       "\n",
       ".xr-icon-database,\n",
       ".xr-icon-file-text2,\n",
       ".xr-no-icon {\n",
       "  display: inline-block;\n",
       "  vertical-align: middle;\n",
       "  width: 1em;\n",
       "  height: 1.5em !important;\n",
       "  stroke-width: 0;\n",
       "  stroke: currentColor;\n",
       "  fill: currentColor;\n",
       "}\n",
       "</style><pre class='xr-text-repr-fallback'>&lt;xarray.Dataset&gt;\n",
       "Dimensions:                (snapshot: 1, Generator-fix: 2, Bus: 1)\n",
       "Coordinates:\n",
       "  * snapshot               (snapshot) object &#x27;now&#x27;\n",
       "  * Generator-fix          (Generator-fix) object &#x27;gas&#x27; &#x27;coal&#x27;\n",
       "  * Bus                    (Bus) object &#x27;UA&#x27;\n",
       "Data variables:\n",
       "    Generator-fix-p-lower  (snapshot, Generator-fix) float64 0.0 0.0\n",
       "    Generator-fix-p-upper  (snapshot, Generator-fix) float64 0.0 -30.0\n",
       "    Bus-nodal_balance      (snapshot, Bus) float64 70.0</pre><div class='xr-wrap' style='display:none'><div class='xr-header'><div class='xr-obj-type'>xarray.Dataset</div></div><ul class='xr-sections'><li class='xr-section-item'><input id='section-bcf45bec-e982-4291-aef3-d5f0d21f9207' class='xr-section-summary-in' type='checkbox' disabled ><label for='section-bcf45bec-e982-4291-aef3-d5f0d21f9207' class='xr-section-summary'  title='Expand/collapse section'>Dimensions:</label><div class='xr-section-inline-details'><ul class='xr-dim-list'><li><span class='xr-has-index'>snapshot</span>: 1</li><li><span class='xr-has-index'>Generator-fix</span>: 2</li><li><span class='xr-has-index'>Bus</span>: 1</li></ul></div><div class='xr-section-details'></div></li><li class='xr-section-item'><input id='section-e4b51f66-fbb6-44ff-a497-6a6be2bb9424' class='xr-section-summary-in' type='checkbox'  checked><label for='section-e4b51f66-fbb6-44ff-a497-6a6be2bb9424' class='xr-section-summary' >Coordinates: <span>(3)</span></label><div class='xr-section-inline-details'></div><div class='xr-section-details'><ul class='xr-var-list'><li class='xr-var-item'><div class='xr-var-name'><span class='xr-has-index'>snapshot</span></div><div class='xr-var-dims'>(snapshot)</div><div class='xr-var-dtype'>object</div><div class='xr-var-preview xr-preview'>&#x27;now&#x27;</div><input id='attrs-308cbc6a-6042-426e-aaf7-802122cf8adb' class='xr-var-attrs-in' type='checkbox' disabled><label for='attrs-308cbc6a-6042-426e-aaf7-802122cf8adb' title='Show/Hide attributes'><svg class='icon xr-icon-file-text2'><use xlink:href='#icon-file-text2'></use></svg></label><input id='data-9b640156-9635-4e8e-a58b-94d44e2cafd3' class='xr-var-data-in' type='checkbox'><label for='data-9b640156-9635-4e8e-a58b-94d44e2cafd3' title='Show/Hide data repr'><svg class='icon xr-icon-database'><use xlink:href='#icon-database'></use></svg></label><div class='xr-var-attrs'><dl class='xr-attrs'></dl></div><div class='xr-var-data'><pre>array([&#x27;now&#x27;], dtype=object)</pre></div></li><li class='xr-var-item'><div class='xr-var-name'><span class='xr-has-index'>Generator-fix</span></div><div class='xr-var-dims'>(Generator-fix)</div><div class='xr-var-dtype'>object</div><div class='xr-var-preview xr-preview'>&#x27;gas&#x27; &#x27;coal&#x27;</div><input id='attrs-6a532af8-f6de-488a-853f-23bd9453f95b' class='xr-var-attrs-in' type='checkbox' disabled><label for='attrs-6a532af8-f6de-488a-853f-23bd9453f95b' title='Show/Hide attributes'><svg class='icon xr-icon-file-text2'><use xlink:href='#icon-file-text2'></use></svg></label><input id='data-f8d9a325-d784-4b30-a464-79c5883d66db' class='xr-var-data-in' type='checkbox'><label for='data-f8d9a325-d784-4b30-a464-79c5883d66db' title='Show/Hide data repr'><svg class='icon xr-icon-database'><use xlink:href='#icon-database'></use></svg></label><div class='xr-var-attrs'><dl class='xr-attrs'></dl></div><div class='xr-var-data'><pre>array([&#x27;gas&#x27;, &#x27;coal&#x27;], dtype=object)</pre></div></li><li class='xr-var-item'><div class='xr-var-name'><span class='xr-has-index'>Bus</span></div><div class='xr-var-dims'>(Bus)</div><div class='xr-var-dtype'>object</div><div class='xr-var-preview xr-preview'>&#x27;UA&#x27;</div><input id='attrs-3d91c87f-bc69-4477-ad5a-244f3156922b' class='xr-var-attrs-in' type='checkbox' disabled><label for='attrs-3d91c87f-bc69-4477-ad5a-244f3156922b' title='Show/Hide attributes'><svg class='icon xr-icon-file-text2'><use xlink:href='#icon-file-text2'></use></svg></label><input id='data-2cf54039-f6c8-4be4-bedc-0547b722f562' class='xr-var-data-in' type='checkbox'><label for='data-2cf54039-f6c8-4be4-bedc-0547b722f562' title='Show/Hide data repr'><svg class='icon xr-icon-database'><use xlink:href='#icon-database'></use></svg></label><div class='xr-var-attrs'><dl class='xr-attrs'></dl></div><div class='xr-var-data'><pre>array([&#x27;UA&#x27;], dtype=object)</pre></div></li></ul></div></li><li class='xr-section-item'><input id='section-89a285ca-db75-4739-94cd-eae049b880e9' class='xr-section-summary-in' type='checkbox'  checked><label for='section-89a285ca-db75-4739-94cd-eae049b880e9' class='xr-section-summary' >Data variables: <span>(3)</span></label><div class='xr-section-inline-details'></div><div class='xr-section-details'><ul class='xr-var-list'><li class='xr-var-item'><div class='xr-var-name'><span>Generator-fix-p-lower</span></div><div class='xr-var-dims'>(snapshot, Generator-fix)</div><div class='xr-var-dtype'>float64</div><div class='xr-var-preview xr-preview'>0.0 0.0</div><input id='attrs-c3667ef6-44cc-4253-86bc-86c9dfec4ff4' class='xr-var-attrs-in' type='checkbox' disabled><label for='attrs-c3667ef6-44cc-4253-86bc-86c9dfec4ff4' title='Show/Hide attributes'><svg class='icon xr-icon-file-text2'><use xlink:href='#icon-file-text2'></use></svg></label><input id='data-a7e9db53-52b8-4bec-a4c7-8758c81c9091' class='xr-var-data-in' type='checkbox'><label for='data-a7e9db53-52b8-4bec-a4c7-8758c81c9091' title='Show/Hide data repr'><svg class='icon xr-icon-database'><use xlink:href='#icon-database'></use></svg></label><div class='xr-var-attrs'><dl class='xr-attrs'></dl></div><div class='xr-var-data'><pre>array([[0., 0.]])</pre></div></li><li class='xr-var-item'><div class='xr-var-name'><span>Generator-fix-p-upper</span></div><div class='xr-var-dims'>(snapshot, Generator-fix)</div><div class='xr-var-dtype'>float64</div><div class='xr-var-preview xr-preview'>0.0 -30.0</div><input id='attrs-2baeb821-79d1-4e8f-8691-e7369195c36c' class='xr-var-attrs-in' type='checkbox' disabled><label for='attrs-2baeb821-79d1-4e8f-8691-e7369195c36c' title='Show/Hide attributes'><svg class='icon xr-icon-file-text2'><use xlink:href='#icon-file-text2'></use></svg></label><input id='data-eb05ba7d-0146-4ff5-a65c-3cb0371a374f' class='xr-var-data-in' type='checkbox'><label for='data-eb05ba7d-0146-4ff5-a65c-3cb0371a374f' title='Show/Hide data repr'><svg class='icon xr-icon-database'><use xlink:href='#icon-database'></use></svg></label><div class='xr-var-attrs'><dl class='xr-attrs'></dl></div><div class='xr-var-data'><pre>array([[  0., -30.]])</pre></div></li><li class='xr-var-item'><div class='xr-var-name'><span>Bus-nodal_balance</span></div><div class='xr-var-dims'>(snapshot, Bus)</div><div class='xr-var-dtype'>float64</div><div class='xr-var-preview xr-preview'>70.0</div><input id='attrs-67f1e3e7-a265-43c1-8d6b-2c259c48a56c' class='xr-var-attrs-in' type='checkbox' disabled><label for='attrs-67f1e3e7-a265-43c1-8d6b-2c259c48a56c' title='Show/Hide attributes'><svg class='icon xr-icon-file-text2'><use xlink:href='#icon-file-text2'></use></svg></label><input id='data-0d42df4b-ca02-4d2a-adad-a5286f33faf6' class='xr-var-data-in' type='checkbox'><label for='data-0d42df4b-ca02-4d2a-adad-a5286f33faf6' title='Show/Hide data repr'><svg class='icon xr-icon-database'><use xlink:href='#icon-database'></use></svg></label><div class='xr-var-attrs'><dl class='xr-attrs'></dl></div><div class='xr-var-data'><pre>array([[70.]])</pre></div></li></ul></div></li><li class='xr-section-item'><input id='section-e70aa44d-f7c8-4c80-95ef-d47a00f72955' class='xr-section-summary-in' type='checkbox'  ><label for='section-e70aa44d-f7c8-4c80-95ef-d47a00f72955' class='xr-section-summary' >Indexes: <span>(3)</span></label><div class='xr-section-inline-details'></div><div class='xr-section-details'><ul class='xr-var-list'><li class='xr-var-item'><div class='xr-index-name'><div>snapshot</div></div><div class='xr-index-preview'>PandasIndex</div><div></div><input id='index-97a5cc1a-dca3-40ea-afcf-515dc54e7c6a' class='xr-index-data-in' type='checkbox'/><label for='index-97a5cc1a-dca3-40ea-afcf-515dc54e7c6a' title='Show/Hide index repr'><svg class='icon xr-icon-database'><use xlink:href='#icon-database'></use></svg></label><div class='xr-index-data'><pre>PandasIndex(Index([&#x27;now&#x27;], dtype=&#x27;object&#x27;, name=&#x27;snapshot&#x27;))</pre></div></li><li class='xr-var-item'><div class='xr-index-name'><div>Generator-fix</div></div><div class='xr-index-preview'>PandasIndex</div><div></div><input id='index-2a8d778b-833d-4648-8783-7500287da181' class='xr-index-data-in' type='checkbox'/><label for='index-2a8d778b-833d-4648-8783-7500287da181' title='Show/Hide index repr'><svg class='icon xr-icon-database'><use xlink:href='#icon-database'></use></svg></label><div class='xr-index-data'><pre>PandasIndex(Index([&#x27;gas&#x27;, &#x27;coal&#x27;], dtype=&#x27;object&#x27;, name=&#x27;Generator-fix&#x27;))</pre></div></li><li class='xr-var-item'><div class='xr-index-name'><div>Bus</div></div><div class='xr-index-preview'>PandasIndex</div><div></div><input id='index-91afa602-ec21-4224-aff4-9c3ba6b22111' class='xr-index-data-in' type='checkbox'/><label for='index-91afa602-ec21-4224-aff4-9c3ba6b22111' title='Show/Hide index repr'><svg class='icon xr-icon-database'><use xlink:href='#icon-database'></use></svg></label><div class='xr-index-data'><pre>PandasIndex(Index([&#x27;UA&#x27;], dtype=&#x27;object&#x27;, name=&#x27;Bus&#x27;))</pre></div></li></ul></div></li><li class='xr-section-item'><input id='section-d8d43103-e8ad-4308-8557-4c8dcf9fe717' class='xr-section-summary-in' type='checkbox' disabled ><label for='section-d8d43103-e8ad-4308-8557-4c8dcf9fe717' class='xr-section-summary'  title='Expand/collapse section'>Attributes: <span>(0)</span></label><div class='xr-section-inline-details'></div><div class='xr-section-details'><dl class='xr-attrs'></dl></div></li></ul></div></div>"
      ],
      "text/plain": [
       "<xarray.Dataset>\n",
       "Dimensions:                (snapshot: 1, Generator-fix: 2, Bus: 1)\n",
       "Coordinates:\n",
       "  * snapshot               (snapshot) object 'now'\n",
       "  * Generator-fix          (Generator-fix) object 'gas' 'coal'\n",
       "  * Bus                    (Bus) object 'UA'\n",
       "Data variables:\n",
       "    Generator-fix-p-lower  (snapshot, Generator-fix) float64 0.0 0.0\n",
       "    Generator-fix-p-upper  (snapshot, Generator-fix) float64 0.0 -30.0\n",
       "    Bus-nodal_balance      (snapshot, Bus) float64 70.0"
      ]
     },
     "execution_count": 420,
     "metadata": {},
     "output_type": "execute_result"
    }
   ],
   "source": [
    "n.model.dual"
   ]
  },
  {
   "cell_type": "code",
   "execution_count": null,
   "metadata": {},
   "outputs": [],
   "source": []
  }
 ],
 "metadata": {
  "kernelspec": {
   "display_name": "pypsa-eur",
   "language": "python",
   "name": "python3"
  },
  "language_info": {
   "codemirror_mode": {
    "name": "ipython",
    "version": 3
   },
   "file_extension": ".py",
   "mimetype": "text/x-python",
   "name": "python",
   "nbconvert_exporter": "python",
   "pygments_lexer": "ipython3",
   "version": "3.11.0"
  }
 },
 "nbformat": 4,
 "nbformat_minor": 2
}
